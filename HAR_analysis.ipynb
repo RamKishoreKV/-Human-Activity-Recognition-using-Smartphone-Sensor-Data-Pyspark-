{
  "nbformat": 4,
  "nbformat_minor": 0,
  "metadata": {
    "colab": {
      "provenance": []
    },
    "kernelspec": {
      "name": "python3",
      "display_name": "Python 3"
    },
    "language_info": {
      "name": "python"
    }
  },
  "cells": [
    {
      "cell_type": "code",
      "execution_count": 1,
      "metadata": {
        "colab": {
          "base_uri": "https://localhost:8080/"
        },
        "id": "KXooXR0NiVm9",
        "outputId": "0d847adf-3072-4d63-9f16-eeb6dac9f17e"
      },
      "outputs": [
        {
          "output_type": "stream",
          "name": "stdout",
          "text": [
            "Collecting pyspark\n",
            "  Downloading pyspark-3.5.1.tar.gz (317.0 MB)\n",
            "\u001b[2K     \u001b[90m━━━━━━━━━━━━━━━━━━━━━━━━━━━━━━━━━━━━━━━━\u001b[0m \u001b[32m317.0/317.0 MB\u001b[0m \u001b[31m2.3 MB/s\u001b[0m eta \u001b[36m0:00:00\u001b[0m\n",
            "\u001b[?25h  Preparing metadata (setup.py) ... \u001b[?25l\u001b[?25hdone\n",
            "Requirement already satisfied: py4j==0.10.9.7 in /usr/local/lib/python3.10/dist-packages (from pyspark) (0.10.9.7)\n",
            "Building wheels for collected packages: pyspark\n",
            "  Building wheel for pyspark (setup.py) ... \u001b[?25l\u001b[?25hdone\n",
            "  Created wheel for pyspark: filename=pyspark-3.5.1-py2.py3-none-any.whl size=317488493 sha256=d4b024d9393a81795f52e311d0d98f7886a1347cc693b2599f5a6cd1664ca7c5\n",
            "  Stored in directory: /root/.cache/pip/wheels/80/1d/60/2c256ed38dddce2fdd93be545214a63e02fbd8d74fb0b7f3a6\n",
            "Successfully built pyspark\n",
            "Installing collected packages: pyspark\n",
            "Successfully installed pyspark-3.5.1\n",
            "Collecting findspark\n",
            "  Downloading findspark-2.0.1-py2.py3-none-any.whl (4.4 kB)\n",
            "Installing collected packages: findspark\n",
            "Successfully installed findspark-2.0.1\n"
          ]
        }
      ],
      "source": [
        "!pip install pyspark\n",
        "!pip install findspark"
      ]
    },
    {
      "cell_type": "code",
      "source": [
        "from pyspark.sql import SparkSession\n",
        "spark = SparkSession.builder.master(\"local[*]\").getOrCreate()"
      ],
      "metadata": {
        "id": "cnHIZ4Uni7zi"
      },
      "execution_count": 2,
      "outputs": []
    },
    {
      "cell_type": "code",
      "source": [
        "!pip install hdfs3"
      ],
      "metadata": {
        "colab": {
          "base_uri": "https://localhost:8080/"
        },
        "id": "IAQBHobo4z3p",
        "outputId": "9079ea80-5d21-49f3-a517-24a031fd85e7"
      },
      "execution_count": 3,
      "outputs": [
        {
          "output_type": "stream",
          "name": "stdout",
          "text": [
            "Collecting hdfs3\n",
            "  Downloading hdfs3-0.3.1.tar.gz (44 kB)\n",
            "\u001b[2K     \u001b[90m━━━━━━━━━━━━━━━━━━━━━━━━━━━━━━━━━━━━━━━━\u001b[0m \u001b[32m44.5/44.5 kB\u001b[0m \u001b[31m941.3 kB/s\u001b[0m eta \u001b[36m0:00:00\u001b[0m\n",
            "\u001b[?25h  Preparing metadata (setup.py) ... \u001b[?25l\u001b[?25hdone\n",
            "Building wheels for collected packages: hdfs3\n",
            "  Building wheel for hdfs3 (setup.py) ... \u001b[?25l\u001b[?25hdone\n",
            "  Created wheel for hdfs3: filename=hdfs3-0.3.1-py3-none-any.whl size=23999 sha256=f317de15b3f265732a996ca4dbb6602c972e9da02df5bf212ead967aa77d36b8\n",
            "  Stored in directory: /root/.cache/pip/wheels/67/21/33/1c6b815ef66167a154344bb4376daaffb56f87145a8a00aea0\n",
            "Successfully built hdfs3\n",
            "Installing collected packages: hdfs3\n",
            "Successfully installed hdfs3-0.3.1\n"
          ]
        }
      ]
    },
    {
      "cell_type": "code",
      "source": [
        "!ls \"/content/healthcare-dataset-stroke-data.csv\""
      ],
      "metadata": {
        "colab": {
          "base_uri": "https://localhost:8080/"
        },
        "id": "46runX0j4WKr",
        "outputId": "c739c4d8-ef33-40e0-e670-e1019cac2745"
      },
      "execution_count": 4,
      "outputs": [
        {
          "output_type": "stream",
          "name": "stdout",
          "text": [
            "/content/healthcare-dataset-stroke-data.csv\n"
          ]
        }
      ]
    },
    {
      "cell_type": "code",
      "source": [
        "from pyspark.sql.functions import isnan, when, count, col,explode, array, lit,rand,monotonically_increasing_id,udf\n",
        "from pyspark.ml.feature import StringIndexer,VectorAssembler\n",
        "from pyspark.ml.classification import RandomForestClassifier, DecisionTreeClassifier, LogisticRegression\n",
        "from pyspark.ml.evaluation import MulticlassClassificationEvaluator\n",
        "from pyspark.mllib.evaluation import MulticlassMetrics\n",
        "from pyspark.sql.types import IntegerType"
      ],
      "metadata": {
        "id": "f3uxS-o943ew"
      },
      "execution_count": 5,
      "outputs": []
    },
    {
      "cell_type": "code",
      "source": [
        "spark_df = spark.read.csv('/content/healthcare-dataset-stroke-data.csv', inferSchema=True, header=True)"
      ],
      "metadata": {
        "id": "yHS0TmHrjOmZ"
      },
      "execution_count": 6,
      "outputs": []
    },
    {
      "cell_type": "code",
      "source": [
        "spark_df.show(5)"
      ],
      "metadata": {
        "colab": {
          "base_uri": "https://localhost:8080/"
        },
        "id": "2pFfjwfa-nZ2",
        "outputId": "a7a55ffb-fefb-4b13-c7db-158ddef92477"
      },
      "execution_count": 7,
      "outputs": [
        {
          "output_type": "stream",
          "name": "stdout",
          "text": [
            "+-----+------+----+------------+-------------+------------+-------------+--------------+-----------------+----+---------------+------+\n",
            "|   id|gender| age|hypertension|heart_disease|ever_married|    work_type|Residence_type|avg_glucose_level| bmi| smoking_status|stroke|\n",
            "+-----+------+----+------------+-------------+------------+-------------+--------------+-----------------+----+---------------+------+\n",
            "| 9046|  Male|67.0|           0|            1|         Yes|      Private|         Urban|           228.69|36.6|formerly smoked|     1|\n",
            "|51676|Female|61.0|           0|            0|         Yes|Self-employed|         Rural|           202.21| N/A|   never smoked|     1|\n",
            "|31112|  Male|80.0|           0|            1|         Yes|      Private|         Rural|           105.92|32.5|   never smoked|     1|\n",
            "|60182|Female|49.0|           0|            0|         Yes|      Private|         Urban|           171.23|34.4|         smokes|     1|\n",
            "| 1665|Female|79.0|           1|            0|         Yes|Self-employed|         Rural|           174.12|  24|   never smoked|     1|\n",
            "+-----+------+----+------------+-------------+------------+-------------+--------------+-----------------+----+---------------+------+\n",
            "only showing top 5 rows\n",
            "\n"
          ]
        }
      ]
    },
    {
      "cell_type": "code",
      "source": [
        "#Shape of the dataset...\n",
        "print(\"Shape: \", (spark_df.count(), len(spark_df.columns)))"
      ],
      "metadata": {
        "colab": {
          "base_uri": "https://localhost:8080/"
        },
        "id": "87OpXOGMrDa0",
        "outputId": "fe819f30-b649-4dbc-fd58-16e49998bad1"
      },
      "execution_count": 8,
      "outputs": [
        {
          "output_type": "stream",
          "name": "stdout",
          "text": [
            "Shape:  (5110, 12)\n"
          ]
        }
      ]
    },
    {
      "cell_type": "code",
      "source": [
        "#Info() as pandas....\n",
        "spark_df.printSchema()"
      ],
      "metadata": {
        "colab": {
          "base_uri": "https://localhost:8080/"
        },
        "id": "tqMEDPUl_ZCz",
        "outputId": "5f0cf917-f3a8-4a4f-e617-351437a1dd4b"
      },
      "execution_count": 9,
      "outputs": [
        {
          "output_type": "stream",
          "name": "stdout",
          "text": [
            "root\n",
            " |-- id: integer (nullable = true)\n",
            " |-- gender: string (nullable = true)\n",
            " |-- age: double (nullable = true)\n",
            " |-- hypertension: integer (nullable = true)\n",
            " |-- heart_disease: integer (nullable = true)\n",
            " |-- ever_married: string (nullable = true)\n",
            " |-- work_type: string (nullable = true)\n",
            " |-- Residence_type: string (nullable = true)\n",
            " |-- avg_glucose_level: double (nullable = true)\n",
            " |-- bmi: string (nullable = true)\n",
            " |-- smoking_status: string (nullable = true)\n",
            " |-- stroke: integer (nullable = true)\n",
            "\n"
          ]
        }
      ]
    },
    {
      "cell_type": "code",
      "source": [
        "#Converting the dtype of some variables....\n",
        "spark_df = spark_df.withColumn(\"age\", spark_df[\"age\"].cast(\"integer\"))\n",
        "spark_df = spark_df.withColumn(\"bmi\", spark_df[\"bmi\"].cast(\"integer\"))\n",
        "spark_df = spark_df.withColumn(\"avg_glucose_level\", spark_df[\"avg_glucose_level\"].cast(\"integer\"))"
      ],
      "metadata": {
        "id": "yNBAoWII_e1Q"
      },
      "execution_count": 10,
      "outputs": []
    },
    {
      "cell_type": "code",
      "source": [
        "#Basic Statistics.....\n",
        "spark_df.describe().show(2)"
      ],
      "metadata": {
        "colab": {
          "base_uri": "https://localhost:8080/"
        },
        "id": "zVxp7zLi_gFP",
        "outputId": "f39eb9fb-5988-431f-ff1b-1aa656ba02be"
      },
      "execution_count": 11,
      "outputs": [
        {
          "output_type": "stream",
          "name": "stdout",
          "text": [
            "+-------+-----------------+------+-----------------+------------------+-------------------+------------+---------+--------------+------------------+------------------+--------------+------------------+\n",
            "|summary|               id|gender|              age|      hypertension|      heart_disease|ever_married|work_type|Residence_type| avg_glucose_level|               bmi|smoking_status|            stroke|\n",
            "+-------+-----------------+------+-----------------+------------------+-------------------+------------+---------+--------------+------------------+------------------+--------------+------------------+\n",
            "|  count|             5110|  5110|             5110|              5110|               5110|        5110|     5110|          5110|              5110|              4909|          5110|              5110|\n",
            "|   mean|36517.82935420744|  NULL|43.21526418786693|0.0974559686888454|0.05401174168297456|        NULL|     NULL|          NULL|105.65831702544031|28.448563862293746|          NULL|0.0487279843444227|\n",
            "+-------+-----------------+------+-----------------+------------------+-------------------+------------+---------+--------------+------------------+------------------+--------------+------------------+\n",
            "only showing top 2 rows\n",
            "\n"
          ]
        }
      ]
    },
    {
      "cell_type": "code",
      "source": [
        "#Statistics on Specific Features...\n",
        "spark_df.describe([\"age\", \"stroke\"]).show() #summary statistics for specific variables"
      ],
      "metadata": {
        "colab": {
          "base_uri": "https://localhost:8080/"
        },
        "id": "tFOkBosz_rDo",
        "outputId": "3356890f-d4dd-4de8-ad2f-8689e32dda65"
      },
      "execution_count": 12,
      "outputs": [
        {
          "output_type": "stream",
          "name": "stdout",
          "text": [
            "+-------+------------------+-------------------+\n",
            "|summary|               age|             stroke|\n",
            "+-------+------------------+-------------------+\n",
            "|  count|              5110|               5110|\n",
            "|   mean| 43.21526418786693| 0.0487279843444227|\n",
            "| stddev|22.633865752854746|0.21531985698023753|\n",
            "|    min|                 0|                  0|\n",
            "|    max|                82|                  1|\n",
            "+-------+------------------+-------------------+\n",
            "\n"
          ]
        }
      ]
    },
    {
      "cell_type": "code",
      "source": [
        "#Using the groupby on variable..\n",
        "spark_df.groupby(\"stroke\").count().show() #class statistics of categorical variables"
      ],
      "metadata": {
        "colab": {
          "base_uri": "https://localhost:8080/"
        },
        "id": "PYC-HPGA_uNg",
        "outputId": "bd8c9104-2e4d-473b-a52d-6ca408fbb41b"
      },
      "execution_count": 13,
      "outputs": [
        {
          "output_type": "stream",
          "name": "stdout",
          "text": [
            "+------+-----+\n",
            "|stroke|count|\n",
            "+------+-----+\n",
            "|     1|  249|\n",
            "|     0| 4861|\n",
            "+------+-----+\n",
            "\n"
          ]
        }
      ]
    },
    {
      "cell_type": "code",
      "source": [
        "spark_df.select(\"stroke\").distinct().show() #unique classes"
      ],
      "metadata": {
        "colab": {
          "base_uri": "https://localhost:8080/"
        },
        "id": "n5TXdg1Y_yqZ",
        "outputId": "e44be8ef-48cf-471d-ed98-a134b122e029"
      },
      "execution_count": 14,
      "outputs": [
        {
          "output_type": "stream",
          "name": "stdout",
          "text": [
            "+------+\n",
            "|stroke|\n",
            "+------+\n",
            "|     1|\n",
            "|     0|\n",
            "+------+\n",
            "\n"
          ]
        }
      ]
    },
    {
      "cell_type": "code",
      "source": [
        "spark_df.groupby(\"Stroke\").agg({\"age\": \"mean\"}).show()"
      ],
      "metadata": {
        "colab": {
          "base_uri": "https://localhost:8080/"
        },
        "id": "l42sk5Sv_2Dv",
        "outputId": "fd1c0180-0ed6-4ed6-8eec-1be59fa17a98"
      },
      "execution_count": 15,
      "outputs": [
        {
          "output_type": "stream",
          "name": "stdout",
          "text": [
            "+------+-----------------+\n",
            "|Stroke|         avg(age)|\n",
            "+------+-----------------+\n",
            "|     1|67.72690763052209|\n",
            "|     0|41.95967907837893|\n",
            "+------+-----------------+\n",
            "\n"
          ]
        }
      ]
    },
    {
      "cell_type": "code",
      "source": [
        "#Selection and summary statistics of all categorical variables\n",
        "cat_cols = [col[0] for col in spark_df.dtypes if col[1] == \"string\"]\n",
        "spark_df.select(cat_cols).describe().show()\n",
        "print(\"No. Of Categorical Columns:\", len(cat_cols) + 1)"
      ],
      "metadata": {
        "colab": {
          "base_uri": "https://localhost:8080/"
        },
        "id": "ll0EvlTc_5LA",
        "outputId": "a0946d94-19fe-40eb-8660-f869c0880284"
      },
      "execution_count": 28,
      "outputs": [
        {
          "output_type": "stream",
          "name": "stdout",
          "text": [
            "+-------+------+------------+---------+--------------+--------------+\n",
            "|summary|gender|ever_married|work_type|Residence_type|smoking_status|\n",
            "+-------+------+------------+---------+--------------+--------------+\n",
            "|  count|  5110|        5110|     5110|          5110|          5110|\n",
            "|   mean|  NULL|        NULL|     NULL|          NULL|          NULL|\n",
            "| stddev|  NULL|        NULL|     NULL|          NULL|          NULL|\n",
            "|    min|Female|          No| Govt_job|         Rural|       Unknown|\n",
            "|    max| Other|         Yes| children|         Urban|        smokes|\n",
            "+-------+------+------------+---------+--------------+--------------+\n",
            "\n",
            "No. Of Categorical Columns: 6\n"
          ]
        }
      ]
    },
    {
      "cell_type": "code",
      "source": [
        "#Selection and summary statistics of all numerical variables\n",
        "num_cols = [col[0] for col in spark_df.dtypes if col[1] != \"string\"]\n",
        "spark_df.select(num_cols).describe().show()\n",
        "print(\"No. Of Numerical Columns: \",len(num_cols)+1)"
      ],
      "metadata": {
        "colab": {
          "base_uri": "https://localhost:8080/"
        },
        "id": "TKR8QFet_64Y",
        "outputId": "620abf75-c8f2-42c6-f2d8-746c8a0cdd4b"
      },
      "execution_count": 29,
      "outputs": [
        {
          "output_type": "stream",
          "name": "stdout",
          "text": [
            "+-------+-----------------+------------------+------------------+-------------------+------------------+-----------------+-------------------+\n",
            "|summary|               id|               age|      hypertension|      heart_disease| avg_glucose_level|              bmi|             stroke|\n",
            "+-------+-----------------+------------------+------------------+-------------------+------------------+-----------------+-------------------+\n",
            "|  count|             5110|              5110|              5110|               5110|              5110|             5110|               5110|\n",
            "|   mean|36517.82935420744| 43.21526418786693|0.0974559686888454|0.05401174168297456|105.65831702544031|28.43091976516634| 0.0487279843444227|\n",
            "| stddev|21161.72162482715|22.633865752854746| 0.296606674233791|0.22606298750336554|45.275290309509536|7.688482598387539|0.21531985698023753|\n",
            "|    min|               67|                 0|                 0|                  0|                55|               10|                  0|\n",
            "|    max|            72940|                82|                 1|                  1|               271|               97|                  1|\n",
            "+-------+-----------------+------------------+------------------+-------------------+------------------+-----------------+-------------------+\n",
            "\n",
            "No. Of Numerical Columns:  8\n"
          ]
        }
      ]
    },
    {
      "cell_type": "code",
      "source": [
        "# mean of numerical variables relative to the target variable\n",
        "for col in [col.lower() for col in num_cols]:\n",
        "    spark_df.groupby(\"Stroke\").agg({col: \"mean\"}).show()"
      ],
      "metadata": {
        "colab": {
          "base_uri": "https://localhost:8080/"
        },
        "id": "X6gWH0G0APRN",
        "outputId": "128d1cea-5dec-40c9-abca-2f994c7e3f9a"
      },
      "execution_count": 30,
      "outputs": [
        {
          "output_type": "stream",
          "name": "stdout",
          "text": [
            "+------+------------------+\n",
            "|Stroke|           avg(id)|\n",
            "+------+------------------+\n",
            "|     1| 37115.06827309237|\n",
            "|     0|36487.236371117055|\n",
            "+------+------------------+\n",
            "\n",
            "+------+-----------------+\n",
            "|Stroke|         avg(age)|\n",
            "+------+-----------------+\n",
            "|     1|67.72690763052209|\n",
            "|     0|41.95967907837893|\n",
            "+------+-----------------+\n",
            "\n",
            "+------+-------------------+\n",
            "|Stroke|  avg(hypertension)|\n",
            "+------+-------------------+\n",
            "|     1|0.26506024096385544|\n",
            "|     0|0.08887060275663444|\n",
            "+------+-------------------+\n",
            "\n",
            "+------+-------------------+\n",
            "|Stroke| avg(heart_disease)|\n",
            "+------+-------------------+\n",
            "|     1|0.18875502008032127|\n",
            "|     0|0.04710964822053076|\n",
            "+------+-------------------+\n",
            "\n",
            "+------+----------------------+\n",
            "|Stroke|avg(avg_glucose_level)|\n",
            "+------+----------------------+\n",
            "|     1|     132.0441767068273|\n",
            "|     0|     104.3067270109031|\n",
            "+------+----------------------+\n",
            "\n",
            "+------+-----------------+\n",
            "|Stroke|         avg(bmi)|\n",
            "+------+-----------------+\n",
            "|     1|29.70281124497992|\n",
            "|     0|28.36576836041967|\n",
            "+------+-----------------+\n",
            "\n",
            "+------+-----------+\n",
            "|Stroke|avg(stroke)|\n",
            "+------+-----------+\n",
            "|     1|        1.0|\n",
            "|     0|        0.0|\n",
            "+------+-----------+\n",
            "\n"
          ]
        }
      ]
    },
    {
      "cell_type": "code",
      "source": [
        "#Checking the missing value again...'\n",
        "from pyspark.sql.functions import isnan, when, count, col\n",
        "spark_df.select([count(when(isnan(c) | col(c).isNull(), c)).alias(c) for c in spark_df.columns]).show()"
      ],
      "metadata": {
        "colab": {
          "base_uri": "https://localhost:8080/"
        },
        "id": "g6NiT9H8ATI8",
        "outputId": "106690b2-b185-4698-cbf7-67f00153d943"
      },
      "execution_count": 33,
      "outputs": [
        {
          "output_type": "stream",
          "name": "stdout",
          "text": [
            "+---+------+---+------------+-------------+------------+---------+--------------+-----------------+---+--------------+------+\n",
            "| id|gender|age|hypertension|heart_disease|ever_married|work_type|Residence_type|avg_glucose_level|bmi|smoking_status|stroke|\n",
            "+---+------+---+------------+-------------+------------+---------+--------------+-----------------+---+--------------+------+\n",
            "|  0|     0|  0|           0|            0|           0|        0|             0|                0|  0|             0|     0|\n",
            "+---+------+---+------------+-------------+------------+---------+--------------+-----------------+---+--------------+------+\n",
            "\n"
          ]
        }
      ]
    },
    {
      "cell_type": "code",
      "source": [
        "#Checking the specific summary on the variable...\n",
        "spark_df.select(\"bmi\").summary(\"50%\",\"mean\").show()"
      ],
      "metadata": {
        "colab": {
          "base_uri": "https://localhost:8080/"
        },
        "id": "YgTNMBIgApAy",
        "outputId": "dd1ebbfe-9b48-4317-e7bd-b693c732fcbd"
      },
      "execution_count": 34,
      "outputs": [
        {
          "output_type": "stream",
          "name": "stdout",
          "text": [
            "+-------+-----------------+\n",
            "|summary|              bmi|\n",
            "+-------+-----------------+\n",
            "|    50%|               28|\n",
            "|   mean|28.43091976516634|\n",
            "+-------+-----------------+\n",
            "\n"
          ]
        }
      ]
    },
    {
      "cell_type": "code",
      "source": [
        "# Assigning missing values in bmi feature based on average bmi of Initials\n",
        "spark_df = spark_df.na.fill({\"bmi\" : 28})"
      ],
      "metadata": {
        "id": "nuV69cD5Ar26"
      },
      "execution_count": 35,
      "outputs": []
    },
    {
      "cell_type": "code",
      "source": [
        "#Checking the missing value again...\n",
        "spark_df.select([count(when(isnan(c) | col(c).isNull(), c)).alias(c) for c in spark_df.columns]).show()"
      ],
      "metadata": {
        "colab": {
          "base_uri": "https://localhost:8080/"
        },
        "id": "PrVbJkUvAwdr",
        "outputId": "e9e9035f-eccd-4811-da74-cb4f473d0602"
      },
      "execution_count": 36,
      "outputs": [
        {
          "output_type": "stream",
          "name": "stdout",
          "text": [
            "+---+------+---+------------+-------------+------------+---------+--------------+-----------------+---+--------------+------+\n",
            "| id|gender|age|hypertension|heart_disease|ever_married|work_type|Residence_type|avg_glucose_level|bmi|smoking_status|stroke|\n",
            "+---+------+---+------------+-------------+------------+---------+--------------+-----------------+---+--------------+------+\n",
            "|  0|     0|  0|           0|            0|           0|        0|             0|                0|  0|             0|     0|\n",
            "+---+------+---+------------+-------------+------------+---------+--------------+-----------------+---+--------------+------+\n",
            "\n"
          ]
        }
      ]
    },
    {
      "cell_type": "code",
      "source": [
        "#Removing redundant features...\n",
        "spark_df = spark_df.drop(\"id\")\n",
        "spark_df.show(5)"
      ],
      "metadata": {
        "colab": {
          "base_uri": "https://localhost:8080/"
        },
        "id": "0S8K4fNrA1NR",
        "outputId": "e816bc43-b576-4e97-f78b-56bce43446ce"
      },
      "execution_count": 37,
      "outputs": [
        {
          "output_type": "stream",
          "name": "stdout",
          "text": [
            "+------+---+------------+-------------+------------+-------------+--------------+-----------------+---+---------------+------+\n",
            "|gender|age|hypertension|heart_disease|ever_married|    work_type|Residence_type|avg_glucose_level|bmi| smoking_status|stroke|\n",
            "+------+---+------------+-------------+------------+-------------+--------------+-----------------+---+---------------+------+\n",
            "|  Male| 67|           0|            1|         Yes|      Private|         Urban|              228| 36|formerly smoked|     1|\n",
            "|Female| 61|           0|            0|         Yes|Self-employed|         Rural|              202| 28|   never smoked|     1|\n",
            "|  Male| 80|           0|            1|         Yes|      Private|         Rural|              105| 32|   never smoked|     1|\n",
            "|Female| 49|           0|            0|         Yes|      Private|         Urban|              171| 34|         smokes|     1|\n",
            "|Female| 79|           1|            0|         Yes|Self-employed|         Rural|              174| 24|   never smoked|     1|\n",
            "+------+---+------------+-------------+------------+-------------+--------------+-----------------+---+---------------+------+\n",
            "only showing top 5 rows\n",
            "\n"
          ]
        }
      ]
    },
    {
      "cell_type": "code",
      "source": [
        "# Feature generation...\n",
        "spark_df = spark_df.withColumn('Blood&Heart', spark_df.hypertension * spark_df.heart_disease)\n",
        "spark_df = spark_df.withColumn('Obesity', spark_df[\"bmi\"] * spark_df[\"avg_glucose_level\"]/1000)"
      ],
      "metadata": {
        "id": "OgGhFgSiA6Uq"
      },
      "execution_count": 38,
      "outputs": []
    },
    {
      "cell_type": "code",
      "source": [
        "#First look...\n",
        "spark_df.show(2)"
      ],
      "metadata": {
        "colab": {
          "base_uri": "https://localhost:8080/"
        },
        "id": "NFbEjjxcA-A4",
        "outputId": "1e61c519-2ad9-46f2-ae2a-2a4d5ab5329b"
      },
      "execution_count": 39,
      "outputs": [
        {
          "output_type": "stream",
          "name": "stdout",
          "text": [
            "+------+---+------------+-------------+------------+-------------+--------------+-----------------+---+---------------+------+-----------+-------+\n",
            "|gender|age|hypertension|heart_disease|ever_married|    work_type|Residence_type|avg_glucose_level|bmi| smoking_status|stroke|Blood&Heart|Obesity|\n",
            "+------+---+------------+-------------+------------+-------------+--------------+-----------------+---+---------------+------+-----------+-------+\n",
            "|  Male| 67|           0|            1|         Yes|      Private|         Urban|              228| 36|formerly smoked|     1|          0|  8.208|\n",
            "|Female| 61|           0|            0|         Yes|Self-employed|         Rural|              202| 28|   never smoked|     1|          0|  5.656|\n",
            "+------+---+------------+-------------+------------+-------------+--------------+-----------------+---+---------------+------+-----------+-------+\n",
            "only showing top 2 rows\n",
            "\n"
          ]
        }
      ]
    },
    {
      "cell_type": "code",
      "source": [
        "#converting float values to integer\n",
        "spark_df = spark_df.withColumn(\"age\", spark_df[\"age\"].cast(\"integer\"))\n",
        "spark_df = spark_df.withColumn(\"avg_glucose_level\", spark_df[\"avg_glucose_level\"].cast(\"integer\"))\n",
        "spark_df = spark_df.withColumn(\"bmi\", spark_df[\"bmi\"].cast(\"integer\"))"
      ],
      "metadata": {
        "id": "RxlhJ74ABBzo"
      },
      "execution_count": 40,
      "outputs": []
    },
    {
      "cell_type": "code",
      "source": [
        "spark_df.show(2)"
      ],
      "metadata": {
        "colab": {
          "base_uri": "https://localhost:8080/"
        },
        "id": "6_x139q2BB7Q",
        "outputId": "d759f137-2b3e-49d7-ad17-3325deac11ac"
      },
      "execution_count": 41,
      "outputs": [
        {
          "output_type": "stream",
          "name": "stdout",
          "text": [
            "+------+---+------------+-------------+------------+-------------+--------------+-----------------+---+---------------+------+-----------+-------+\n",
            "|gender|age|hypertension|heart_disease|ever_married|    work_type|Residence_type|avg_glucose_level|bmi| smoking_status|stroke|Blood&Heart|Obesity|\n",
            "+------+---+------------+-------------+------------+-------------+--------------+-----------------+---+---------------+------+-----------+-------+\n",
            "|  Male| 67|           0|            1|         Yes|      Private|         Urban|              228| 36|formerly smoked|     1|          0|  8.208|\n",
            "|Female| 61|           0|            0|         Yes|Self-employed|         Rural|              202| 28|   never smoked|     1|          0|  5.656|\n",
            "+------+---+------------+-------------+------------+-------------+--------------+-----------------+---+---------------+------+-----------+-------+\n",
            "only showing top 2 rows\n",
            "\n"
          ]
        }
      ]
    },
    {
      "cell_type": "code",
      "source": [
        "#Repalcing the values just like case statement in sql....\n",
        "spark_df=spark_df.withColumn('age',\n",
        "                    when(spark_df['age'] < 30, \"Adult\").\n",
        "                    when((spark_df['age'] > 30) & (spark_df['age'] < 40), \"MiddleAge\").\n",
        "                    otherwise(\"OldAge\"))"
      ],
      "metadata": {
        "id": "1v7DNaf0BF3a"
      },
      "execution_count": 42,
      "outputs": []
    },
    {
      "cell_type": "code",
      "source": [
        "spark_df.show(2)"
      ],
      "metadata": {
        "colab": {
          "base_uri": "https://localhost:8080/"
        },
        "id": "mORfMjHdBF66",
        "outputId": "51cc72f8-dc28-4991-fb06-52f25b697305"
      },
      "execution_count": 43,
      "outputs": [
        {
          "output_type": "stream",
          "name": "stdout",
          "text": [
            "+------+------+------------+-------------+------------+-------------+--------------+-----------------+---+---------------+------+-----------+-------+\n",
            "|gender|   age|hypertension|heart_disease|ever_married|    work_type|Residence_type|avg_glucose_level|bmi| smoking_status|stroke|Blood&Heart|Obesity|\n",
            "+------+------+------------+-------------+------------+-------------+--------------+-----------------+---+---------------+------+-----------+-------+\n",
            "|  Male|OldAge|           0|            1|         Yes|      Private|         Urban|              228| 36|formerly smoked|     1|          0|  8.208|\n",
            "|Female|OldAge|           0|            0|         Yes|Self-employed|         Rural|              202| 28|   never smoked|     1|          0|  5.656|\n",
            "+------+------+------------+-------------+------------+-------------+--------------+-----------------+---+---------------+------+-----------+-------+\n",
            "only showing top 2 rows\n",
            "\n"
          ]
        }
      ]
    },
    {
      "cell_type": "code",
      "source": [
        "#Converting categorical into Numerical variable...Using Label Encoding technique....\n",
        "#1.Age---columns\n",
        "indexer = StringIndexer(inputCol=\"age\", outputCol=\"age_label\")\n",
        "indexer.fit(spark_df).transform(spark_df).show(5)\n",
        "temp_sdf = indexer.fit(spark_df).transform(spark_df)\n",
        "spark_df = temp_sdf.withColumn(\"age\", temp_sdf[\"age_label\"].cast(\"integer\"))"
      ],
      "metadata": {
        "colab": {
          "base_uri": "https://localhost:8080/"
        },
        "id": "JDmgpBQ7BCAw",
        "outputId": "a1da215d-9b9c-431d-c958-02081ce8fc75"
      },
      "execution_count": 44,
      "outputs": [
        {
          "output_type": "stream",
          "name": "stdout",
          "text": [
            "+------+------+------------+-------------+------------+-------------+--------------+-----------------+---+---------------+------+-----------+-------+---------+\n",
            "|gender|   age|hypertension|heart_disease|ever_married|    work_type|Residence_type|avg_glucose_level|bmi| smoking_status|stroke|Blood&Heart|Obesity|age_label|\n",
            "+------+------+------------+-------------+------------+-------------+--------------+-----------------+---+---------------+------+-----------+-------+---------+\n",
            "|  Male|OldAge|           0|            1|         Yes|      Private|         Urban|              228| 36|formerly smoked|     1|          0|  8.208|      0.0|\n",
            "|Female|OldAge|           0|            0|         Yes|Self-employed|         Rural|              202| 28|   never smoked|     1|          0|  5.656|      0.0|\n",
            "|  Male|OldAge|           0|            1|         Yes|      Private|         Rural|              105| 32|   never smoked|     1|          0|   3.36|      0.0|\n",
            "|Female|OldAge|           0|            0|         Yes|      Private|         Urban|              171| 34|         smokes|     1|          0|  5.814|      0.0|\n",
            "|Female|OldAge|           1|            0|         Yes|Self-employed|         Rural|              174| 24|   never smoked|     1|          0|  4.176|      0.0|\n",
            "+------+------+------------+-------------+------------+-------------+--------------+-----------------+---+---------------+------+-----------+-------+---------+\n",
            "only showing top 5 rows\n",
            "\n"
          ]
        }
      ]
    },
    {
      "cell_type": "code",
      "source": [
        "#2.gender---columns\n",
        "indexer = StringIndexer(inputCol=\"gender\", outputCol=\"gender_label\")\n",
        "indexer.fit(spark_df).transform(spark_df).show(5)\n",
        "temp_sdf = indexer.fit(spark_df).transform(spark_df)\n",
        "spark_df = temp_sdf.withColumn(\"gender\", temp_sdf[\"gender_label\"].cast(\"integer\"))"
      ],
      "metadata": {
        "colab": {
          "base_uri": "https://localhost:8080/"
        },
        "id": "NjuVjAd8BCE5",
        "outputId": "b5f7aabf-f7f1-4888-d895-2ee85e87a18e"
      },
      "execution_count": 45,
      "outputs": [
        {
          "output_type": "stream",
          "name": "stdout",
          "text": [
            "+------+---+------------+-------------+------------+-------------+--------------+-----------------+---+---------------+------+-----------+-------+---------+------------+\n",
            "|gender|age|hypertension|heart_disease|ever_married|    work_type|Residence_type|avg_glucose_level|bmi| smoking_status|stroke|Blood&Heart|Obesity|age_label|gender_label|\n",
            "+------+---+------------+-------------+------------+-------------+--------------+-----------------+---+---------------+------+-----------+-------+---------+------------+\n",
            "|  Male|  0|           0|            1|         Yes|      Private|         Urban|              228| 36|formerly smoked|     1|          0|  8.208|      0.0|         1.0|\n",
            "|Female|  0|           0|            0|         Yes|Self-employed|         Rural|              202| 28|   never smoked|     1|          0|  5.656|      0.0|         0.0|\n",
            "|  Male|  0|           0|            1|         Yes|      Private|         Rural|              105| 32|   never smoked|     1|          0|   3.36|      0.0|         1.0|\n",
            "|Female|  0|           0|            0|         Yes|      Private|         Urban|              171| 34|         smokes|     1|          0|  5.814|      0.0|         0.0|\n",
            "|Female|  0|           1|            0|         Yes|Self-employed|         Rural|              174| 24|   never smoked|     1|          0|  4.176|      0.0|         0.0|\n",
            "+------+---+------------+-------------+------------+-------------+--------------+-----------------+---+---------------+------+-----------+-------+---------+------------+\n",
            "only showing top 5 rows\n",
            "\n"
          ]
        }
      ]
    },
    {
      "cell_type": "code",
      "source": [
        "#3.ever_married---columns\n",
        "indexer = StringIndexer(inputCol=\"ever_married\", outputCol=\"ever_married_label\")\n",
        "indexer.fit(spark_df).transform(spark_df).show(5)\n",
        "temp_sdf = indexer.fit(spark_df).transform(spark_df)\n",
        "spark_df = temp_sdf.withColumn(\"ever_married\", temp_sdf[\"ever_married_label\"].cast(\"integer\"))"
      ],
      "metadata": {
        "colab": {
          "base_uri": "https://localhost:8080/"
        },
        "id": "pUnyxS-qBCHp",
        "outputId": "1d1f9f5d-8d87-42b3-b593-ed62cb45d001"
      },
      "execution_count": 51,
      "outputs": [
        {
          "output_type": "stream",
          "name": "stdout",
          "text": [
            "+------+---+------------+-------------+------------+---------+--------------+-----------------+---+--------------+------+-----------+-------+---------+------------+---------------+--------------------+--------------------+------------------+\n",
            "|gender|age|hypertension|heart_disease|ever_married|work_type|Residence_type|avg_glucose_level|bmi|smoking_status|stroke|Blood&Heart|Obesity|age_label|gender_label|work_type_label|smoking_status_label|Residence_type_label|ever_married_label|\n",
            "+------+---+------------+-------------+------------+---------+--------------+-----------------+---+--------------+------+-----------+-------+---------+------------+---------------+--------------------+--------------------+------------------+\n",
            "|     1|  0|           0|            1|         Yes|        0|             0|              228| 36|             2|     1|          0|  8.208|        0|           1|            0.0|                 2.0|                 0.0|               0.0|\n",
            "|     0|  0|           0|            0|         Yes|        1|             1|              202| 28|             0|     1|          0|  5.656|        0|           0|            1.0|                 0.0|                 1.0|               0.0|\n",
            "|     1|  0|           0|            1|         Yes|        0|             1|              105| 32|             0|     1|          0|   3.36|        0|           1|            0.0|                 0.0|                 1.0|               0.0|\n",
            "|     0|  0|           0|            0|         Yes|        0|             0|              171| 34|             3|     1|          0|  5.814|        0|           0|            0.0|                 3.0|                 0.0|               0.0|\n",
            "|     0|  0|           1|            0|         Yes|        1|             1|              174| 24|             0|     1|          0|  4.176|        0|           0|            1.0|                 0.0|                 1.0|               0.0|\n",
            "+------+---+------------+-------------+------------+---------+--------------+-----------------+---+--------------+------+-----------+-------+---------+------------+---------------+--------------------+--------------------+------------------+\n",
            "only showing top 5 rows\n",
            "\n"
          ]
        }
      ]
    },
    {
      "cell_type": "code",
      "source": [
        "#4.work_type---columns\n",
        "indexer = StringIndexer(inputCol=\"work_type\", outputCol=\"work_type_label\")\n",
        "indexer.fit(spark_df).transform(spark_df).show(5)\n",
        "temp_sdf = indexer.fit(spark_df).transform(spark_df)\n",
        "spark_df = temp_sdf.withColumn(\"work_type\", temp_sdf[\"work_type_label\"].cast(\"integer\"))"
      ],
      "metadata": {
        "colab": {
          "base_uri": "https://localhost:8080/"
        },
        "id": "-9gD1OdbB5R9",
        "outputId": "4557090f-e635-4f30-915c-8c7e5ca00a3f"
      },
      "execution_count": 46,
      "outputs": [
        {
          "output_type": "stream",
          "name": "stdout",
          "text": [
            "+------+---+------------+-------------+------------+-------------+--------------+-----------------+---+---------------+------+-----------+-------+---------+------------+---------------+\n",
            "|gender|age|hypertension|heart_disease|ever_married|    work_type|Residence_type|avg_glucose_level|bmi| smoking_status|stroke|Blood&Heart|Obesity|age_label|gender_label|work_type_label|\n",
            "+------+---+------------+-------------+------------+-------------+--------------+-----------------+---+---------------+------+-----------+-------+---------+------------+---------------+\n",
            "|     1|  0|           0|            1|         Yes|      Private|         Urban|              228| 36|formerly smoked|     1|          0|  8.208|      0.0|         1.0|            0.0|\n",
            "|     0|  0|           0|            0|         Yes|Self-employed|         Rural|              202| 28|   never smoked|     1|          0|  5.656|      0.0|         0.0|            1.0|\n",
            "|     1|  0|           0|            1|         Yes|      Private|         Rural|              105| 32|   never smoked|     1|          0|   3.36|      0.0|         1.0|            0.0|\n",
            "|     0|  0|           0|            0|         Yes|      Private|         Urban|              171| 34|         smokes|     1|          0|  5.814|      0.0|         0.0|            0.0|\n",
            "|     0|  0|           1|            0|         Yes|Self-employed|         Rural|              174| 24|   never smoked|     1|          0|  4.176|      0.0|         0.0|            1.0|\n",
            "+------+---+------------+-------------+------------+-------------+--------------+-----------------+---+---------------+------+-----------+-------+---------+------------+---------------+\n",
            "only showing top 5 rows\n",
            "\n"
          ]
        }
      ]
    },
    {
      "cell_type": "code",
      "source": [
        "#5.smoking_status---columns\n",
        "indexer = StringIndexer(inputCol=\"smoking_status\", outputCol=\"smoking_status_label\")\n",
        "indexer.fit(spark_df).transform(spark_df).show(5)\n",
        "temp_sdf = indexer.fit(spark_df).transform(spark_df)\n",
        "spark_df = temp_sdf.withColumn(\"smoking_status\", temp_sdf[\"smoking_status_label\"].cast(\"integer\"))"
      ],
      "metadata": {
        "colab": {
          "base_uri": "https://localhost:8080/"
        },
        "id": "MXoi5qw3B8sF",
        "outputId": "b8477600-31cb-4645-ffdc-0e222c815072"
      },
      "execution_count": 47,
      "outputs": [
        {
          "output_type": "stream",
          "name": "stdout",
          "text": [
            "+------+---+------------+-------------+------------+---------+--------------+-----------------+---+---------------+------+-----------+-------+---------+------------+---------------+--------------------+\n",
            "|gender|age|hypertension|heart_disease|ever_married|work_type|Residence_type|avg_glucose_level|bmi| smoking_status|stroke|Blood&Heart|Obesity|age_label|gender_label|work_type_label|smoking_status_label|\n",
            "+------+---+------------+-------------+------------+---------+--------------+-----------------+---+---------------+------+-----------+-------+---------+------------+---------------+--------------------+\n",
            "|     1|  0|           0|            1|         Yes|        0|         Urban|              228| 36|formerly smoked|     1|          0|  8.208|      0.0|         1.0|            0.0|                 2.0|\n",
            "|     0|  0|           0|            0|         Yes|        1|         Rural|              202| 28|   never smoked|     1|          0|  5.656|      0.0|         0.0|            1.0|                 0.0|\n",
            "|     1|  0|           0|            1|         Yes|        0|         Rural|              105| 32|   never smoked|     1|          0|   3.36|      0.0|         1.0|            0.0|                 0.0|\n",
            "|     0|  0|           0|            0|         Yes|        0|         Urban|              171| 34|         smokes|     1|          0|  5.814|      0.0|         0.0|            0.0|                 3.0|\n",
            "|     0|  0|           1|            0|         Yes|        1|         Rural|              174| 24|   never smoked|     1|          0|  4.176|      0.0|         0.0|            1.0|                 0.0|\n",
            "+------+---+------------+-------------+------------+---------+--------------+-----------------+---+---------------+------+-----------+-------+---------+------------+---------------+--------------------+\n",
            "only showing top 5 rows\n",
            "\n"
          ]
        }
      ]
    },
    {
      "cell_type": "code",
      "source": [
        "#6.Residence_type---columns\n",
        "indexer = StringIndexer(inputCol=\"Residence_type\", outputCol=\"Residence_type_label\")\n",
        "indexer.fit(spark_df).transform(spark_df).show(5)\n",
        "temp_sdf = indexer.fit(spark_df).transform(spark_df)\n",
        "spark_df = temp_sdf.withColumn(\"Residence_type\", temp_sdf[\"Residence_type_label\"].cast(\"integer\"))"
      ],
      "metadata": {
        "colab": {
          "base_uri": "https://localhost:8080/"
        },
        "id": "iOsTUEQ-CA60",
        "outputId": "da89325b-afb4-4796-81c5-7be26a923531"
      },
      "execution_count": 48,
      "outputs": [
        {
          "output_type": "stream",
          "name": "stdout",
          "text": [
            "+------+---+------------+-------------+------------+---------+--------------+-----------------+---+--------------+------+-----------+-------+---------+------------+---------------+--------------------+--------------------+\n",
            "|gender|age|hypertension|heart_disease|ever_married|work_type|Residence_type|avg_glucose_level|bmi|smoking_status|stroke|Blood&Heart|Obesity|age_label|gender_label|work_type_label|smoking_status_label|Residence_type_label|\n",
            "+------+---+------------+-------------+------------+---------+--------------+-----------------+---+--------------+------+-----------+-------+---------+------------+---------------+--------------------+--------------------+\n",
            "|     1|  0|           0|            1|         Yes|        0|         Urban|              228| 36|             2|     1|          0|  8.208|      0.0|         1.0|            0.0|                 2.0|                 0.0|\n",
            "|     0|  0|           0|            0|         Yes|        1|         Rural|              202| 28|             0|     1|          0|  5.656|      0.0|         0.0|            1.0|                 0.0|                 1.0|\n",
            "|     1|  0|           0|            1|         Yes|        0|         Rural|              105| 32|             0|     1|          0|   3.36|      0.0|         1.0|            0.0|                 0.0|                 1.0|\n",
            "|     0|  0|           0|            0|         Yes|        0|         Urban|              171| 34|             3|     1|          0|  5.814|      0.0|         0.0|            0.0|                 3.0|                 0.0|\n",
            "|     0|  0|           1|            0|         Yes|        1|         Rural|              174| 24|             0|     1|          0|  4.176|      0.0|         0.0|            1.0|                 0.0|                 1.0|\n",
            "+------+---+------------+-------------+------------+---------+--------------+-----------------+---+--------------+------+-----------+-------+---------+------------+---------------+--------------------+--------------------+\n",
            "only showing top 5 rows\n",
            "\n"
          ]
        }
      ]
    },
    {
      "cell_type": "code",
      "source": [
        "#Converting the dtype....\n",
        "spark_df = spark_df.withColumn(\"age_label\", spark_df[\"age_label\"].cast(\"integer\"))\n",
        "spark_df = spark_df.withColumn(\"gender_label\", spark_df[\"gender_label\"].cast(\"integer\"))\n",
        "spark_df = spark_df.withColumn(\"ever_married_label\", spark_df[\"ever_married_label\"].cast(\"integer\"))\n",
        "spark_df = spark_df.withColumn(\"work_type_label\", spark_df[\"work_type_label\"].cast(\"integer\"))\n",
        "spark_df = spark_df.withColumn(\"smoking_status_label\", spark_df[\"smoking_status_label\"].cast(\"integer\"))\n",
        "spark_df = spark_df.withColumn(\"Residence_type_label\", spark_df[\"Residence_type_label\"].cast(\"integer\"))"
      ],
      "metadata": {
        "id": "thDkC_63CHLd"
      },
      "execution_count": 52,
      "outputs": []
    },
    {
      "cell_type": "code",
      "source": [
        "#Dropping the redundant features...\n",
        "spark_df = spark_df.drop(\"age\",\"gender\",\"ever_married\",\"work_type\",\"smoking_status\",\"Residence_type\")\n",
        "spark_df.show(2)"
      ],
      "metadata": {
        "colab": {
          "base_uri": "https://localhost:8080/"
        },
        "id": "_Nc6vqvrCLHd",
        "outputId": "414f1bf2-a7e0-46fd-b08a-64b8839eee1d"
      },
      "execution_count": 53,
      "outputs": [
        {
          "output_type": "stream",
          "name": "stdout",
          "text": [
            "+------------+-------------+-----------------+---+------+-----------+-------+---------+------------+---------------+--------------------+--------------------+------------------+\n",
            "|hypertension|heart_disease|avg_glucose_level|bmi|stroke|Blood&Heart|Obesity|age_label|gender_label|work_type_label|smoking_status_label|Residence_type_label|ever_married_label|\n",
            "+------------+-------------+-----------------+---+------+-----------+-------+---------+------------+---------------+--------------------+--------------------+------------------+\n",
            "|           0|            1|              228| 36|     1|          0|  8.208|        0|           1|              0|                   2|                   0|                 0|\n",
            "|           0|            0|              202| 28|     1|          0|  5.656|        0|           0|              1|                   0|                   1|                 0|\n",
            "+------------+-------------+-----------------+---+------+-----------+-------+---------+------------+---------------+--------------------+--------------------+------------------+\n",
            "only showing top 2 rows\n",
            "\n"
          ]
        }
      ]
    },
    {
      "cell_type": "code",
      "source": [
        "#Check the list of the columns\n",
        "spark_df.columns\n"
      ],
      "metadata": {
        "colab": {
          "base_uri": "https://localhost:8080/"
        },
        "id": "pt2Sui-RCORr",
        "outputId": "98485600-715e-420b-b7ef-0bc6965a4f99"
      },
      "execution_count": 54,
      "outputs": [
        {
          "output_type": "execute_result",
          "data": {
            "text/plain": [
              "['hypertension',\n",
              " 'heart_disease',\n",
              " 'avg_glucose_level',\n",
              " 'bmi',\n",
              " 'stroke',\n",
              " 'Blood&Heart',\n",
              " 'Obesity',\n",
              " 'age_label',\n",
              " 'gender_label',\n",
              " 'work_type_label',\n",
              " 'smoking_status_label',\n",
              " 'Residence_type_label',\n",
              " 'ever_married_label']"
            ]
          },
          "metadata": {},
          "execution_count": 54
        }
      ]
    },
    {
      "cell_type": "code",
      "source": [
        "#Rearrangement of the columns...\n",
        "spark_df=spark_df[[\"gender_label\",\"age_label\",\"hypertension\",\"heart_disease\",\"ever_married_label\",\"work_type_label\",\"Residence_type_label\",\"avg_glucose_level\",\"bmi\",\"smoking_status_label\",\"stroke\"]]"
      ],
      "metadata": {
        "id": "pH_arPv_CTcU"
      },
      "execution_count": 55,
      "outputs": []
    },
    {
      "cell_type": "code",
      "source": [
        "spark_df.show(2)"
      ],
      "metadata": {
        "colab": {
          "base_uri": "https://localhost:8080/"
        },
        "id": "cp1_9rbOCUfs",
        "outputId": "9eda8d80-0fd6-4d85-cec8-19631df1c08e"
      },
      "execution_count": 56,
      "outputs": [
        {
          "output_type": "stream",
          "name": "stdout",
          "text": [
            "+------------+---------+------------+-------------+------------------+---------------+--------------------+-----------------+---+--------------------+------+\n",
            "|gender_label|age_label|hypertension|heart_disease|ever_married_label|work_type_label|Residence_type_label|avg_glucose_level|bmi|smoking_status_label|stroke|\n",
            "+------------+---------+------------+-------------+------------------+---------------+--------------------+-----------------+---+--------------------+------+\n",
            "|           1|        0|           0|            1|                 0|              0|                   0|              228| 36|                   2|     1|\n",
            "|           0|        0|           0|            0|                 0|              1|                   1|              202| 28|                   0|     1|\n",
            "+------------+---------+------------+-------------+------------------+---------------+--------------------+-----------------+---+--------------------+------+\n",
            "only showing top 2 rows\n",
            "\n"
          ]
        }
      ]
    },
    {
      "cell_type": "markdown",
      "source": [
        "Since our dataset has more 0 values ,the ml model would get biased towards 0 label,so to avoid that we are balancing it by finding the ratio and duplicating the rows."
      ],
      "metadata": {
        "id": "aH2CdLpc_GjI"
      }
    },
    {
      "cell_type": "code",
      "source": [
        "classs = spark_df.groupBy('stroke').count().collect()\n",
        "majority = max(classs, key=lambda x: x[1])[0]\n",
        "minority = min(classs, key=lambda x: x[1])[0]\n",
        "majority_count = max(classs, key=lambda x: x[1])[1]\n",
        "minority_count = min(classs, key=lambda x: x[1])[1]\n",
        "ratio = majority_count / minority_count\n",
        "majority_df = spark_df.filter(col('stroke') == majority)\n",
        "minority_df = spark_df.filter(col('stroke') == minority)\n",
        "minority_df_balanced = minority_df.withColumn(\"dummy\", explode(array([lit(x) for x in range(int(ratio))]))).drop('dummy')\n",
        "balanced_df = majority_df.unionAll(minority_df_balanced)\n",
        "balanced_df = balanced_df.orderBy(rand())\n",
        "balanced_df.show(5)\n",
        "unique_values_count = balanced_df.groupby('stroke').count().orderBy('count', ascending=False)\n",
        "unique_values_count.show()\n",
        "\n",
        "\n",
        "print(\"Number of unique values:\", unique_values_count)\n",
        "\n"
      ],
      "metadata": {
        "colab": {
          "base_uri": "https://localhost:8080/"
        },
        "id": "KLaHjpy38lWM",
        "outputId": "e513f916-d6b7-4471-8b24-13a2b6d37178"
      },
      "execution_count": 57,
      "outputs": [
        {
          "output_type": "stream",
          "name": "stdout",
          "text": [
            "+------------+---------+------------+-------------+------------------+---------------+--------------------+-----------------+---+--------------------+------+\n",
            "|gender_label|age_label|hypertension|heart_disease|ever_married_label|work_type_label|Residence_type_label|avg_glucose_level|bmi|smoking_status_label|stroke|\n",
            "+------------+---------+------------+-------------+------------------+---------------+--------------------+-----------------+---+--------------------+------+\n",
            "|           0|        0|           0|            0|                 0|              0|                   1|               65| 24|                   2|     0|\n",
            "|           0|        0|           1|            1|                 1|              0|                   1|               84| 26|                   2|     1|\n",
            "|           0|        0|           0|            0|                 0|              0|                   0|              171| 34|                   3|     1|\n",
            "|           1|        0|           0|            1|                 0|              0|                   1|              125| 32|                   1|     0|\n",
            "|           1|        0|           0|            0|                 0|              0|                   1|               65| 33|                   2|     0|\n",
            "+------------+---------+------------+-------------+------------------+---------------+--------------------+-----------------+---+--------------------+------+\n",
            "only showing top 5 rows\n",
            "\n",
            "+------+-----+\n",
            "|stroke|count|\n",
            "+------+-----+\n",
            "|     0| 4861|\n",
            "|     1| 4731|\n",
            "+------+-----+\n",
            "\n",
            "Number of unique values: DataFrame[stroke: int, count: bigint]\n"
          ]
        }
      ]
    },
    {
      "cell_type": "markdown",
      "source": [
        "splitting the train and test data\n",
        "doing vector assembler for creating as a vector for features"
      ],
      "metadata": {
        "id": "kgGwOWYac2He"
      }
    },
    {
      "cell_type": "code",
      "source": [
        "(train_data1, test_data1) = spark_df.randomSplit([0.8, 0.2], seed=1)\n",
        "(train_data2,test_data2)=balanced_df.randomSplit([0.8,0.2],seed=1)\n",
        "feature_cols = spark_df.columns[:-1]\n",
        "assembler = VectorAssembler(inputCols=feature_cols, outputCol=\"features\")\n",
        "train_data1 = assembler.transform(train_data1)\n",
        "test_data1 = assembler.transform(test_data1)\n",
        "train_data2 = assembler.transform(train_data2)\n",
        "test_data2 = assembler.transform(test_data2)\n",
        "\n",
        "\n",
        "\n"
      ],
      "metadata": {
        "id": "ap6GbxFBCXJ0"
      },
      "execution_count": 58,
      "outputs": []
    },
    {
      "cell_type": "markdown",
      "source": [
        "Random Forest Model"
      ],
      "metadata": {
        "id": "xFBGCA-fc14u"
      }
    },
    {
      "cell_type": "code",
      "source": [
        "\n",
        "rf1 = RandomForestClassifier(labelCol=\"stroke\", featuresCol=\"features\")\n",
        "rf_model1 = rf1.fit(train_data1)\n",
        "rf_predictions1 = rf_model1.transform(test_data1)\n",
        "rf_predictions1.show()\n",
        "\n",
        "\n",
        "rf2= RandomForestClassifier(labelCol=\"stroke\", featuresCol=\"features\")\n",
        "rf_model2 = rf2.fit(train_data2)\n",
        "rf_predictions2 = rf_model2.transform(test_data2)\n",
        "rf_predictions2.show()"
      ],
      "metadata": {
        "colab": {
          "base_uri": "https://localhost:8080/"
        },
        "id": "RQ8jit8kc1UH",
        "outputId": "e057f445-55ed-4f62-b988-20c2ce880c18"
      },
      "execution_count": 59,
      "outputs": [
        {
          "output_type": "stream",
          "name": "stdout",
          "text": [
            "+------------+---------+------------+-------------+------------------+---------------+--------------------+-----------------+---+--------------------+------+--------------------+--------------------+--------------------+----------+\n",
            "|gender_label|age_label|hypertension|heart_disease|ever_married_label|work_type_label|Residence_type_label|avg_glucose_level|bmi|smoking_status_label|stroke|            features|       rawPrediction|         probability|prediction|\n",
            "+------------+---------+------------+-------------+------------------+---------------+--------------------+-----------------+---+--------------------+------+--------------------+--------------------+--------------------+----------+\n",
            "|           0|        0|           0|            0|                 0|              0|                   0|               56| 24|                   0|     0|(10,[7,8],[56.0,2...|[18.8615649260622...|[0.94307824630311...|       0.0|\n",
            "|           0|        0|           0|            0|                 0|              0|                   0|               58| 33|                   0|     0|(10,[7,8],[58.0,3...|[18.8857135670409...|[0.94428567835204...|       0.0|\n",
            "|           0|        0|           0|            0|                 0|              0|                   0|               59| 25|                   0|     0|(10,[7,8],[59.0,2...|[18.8615649260622...|[0.94307824630311...|       0.0|\n",
            "|           0|        0|           0|            0|                 0|              0|                   0|               59| 34|                   3|     0|(10,[7,8,9],[59.0...|[18.8857135670409...|[0.94428567835204...|       0.0|\n",
            "|           0|        0|           0|            0|                 0|              0|                   0|               60| 24|                   0|     0|(10,[7,8],[60.0,2...|[18.8615649260622...|[0.94307824630311...|       0.0|\n",
            "|           0|        0|           0|            0|                 0|              0|                   0|               64| 45|                   0|     1|(10,[7,8],[64.0,4...|[18.8857135670409...|[0.94428567835204...|       0.0|\n",
            "|           0|        0|           0|            0|                 0|              0|                   0|               65| 21|                   0|     0|(10,[7,8],[65.0,2...|[18.8615649260622...|[0.94307824630311...|       0.0|\n",
            "|           0|        0|           0|            0|                 0|              0|                   0|               65| 26|                   3|     0|(10,[7,8,9],[65.0...|[18.8615649260622...|[0.94307824630311...|       0.0|\n",
            "|           0|        0|           0|            0|                 0|              0|                   0|               65| 39|                   0|     0|(10,[7,8],[65.0,3...|[18.8857135670409...|[0.94428567835204...|       0.0|\n",
            "|           0|        0|           0|            0|                 0|              0|                   0|               66| 23|                   0|     0|(10,[7,8],[66.0,2...|[18.8615649260622...|[0.94307824630311...|       0.0|\n",
            "|           0|        0|           0|            0|                 0|              0|                   0|               68| 21|                   0|     0|(10,[7,8],[68.0,2...|[18.8615649260622...|[0.94307824630311...|       0.0|\n",
            "|           0|        0|           0|            0|                 0|              0|                   0|               69| 20|                   0|     0|(10,[7,8],[69.0,2...|[18.8615649260622...|[0.94307824630311...|       0.0|\n",
            "|           0|        0|           0|            0|                 0|              0|                   0|               70| 24|                   3|     0|(10,[7,8,9],[70.0...|[18.8615649260622...|[0.94307824630311...|       0.0|\n",
            "|           0|        0|           0|            0|                 0|              0|                   0|               71| 28|                   3|     0|(10,[7,8,9],[71.0...|[18.8615649260622...|[0.94307824630311...|       0.0|\n",
            "|           0|        0|           0|            0|                 0|              0|                   0|               73| 26|                   0|     0|(10,[7,8],[73.0,2...|[18.8615649260622...|[0.94307824630311...|       0.0|\n",
            "|           0|        0|           0|            0|                 0|              0|                   0|               73| 26|                   2|     0|(10,[7,8,9],[73.0...|[18.8615649260622...|[0.94307824630311...|       0.0|\n",
            "|           0|        0|           0|            0|                 0|              0|                   0|               74| 25|                   2|     0|(10,[7,8,9],[74.0...|[18.8615649260622...|[0.94307824630311...|       0.0|\n",
            "|           0|        0|           0|            0|                 0|              0|                   0|               74| 26|                   0|     0|(10,[7,8],[74.0,2...|[18.8615649260622...|[0.94307824630311...|       0.0|\n",
            "|           0|        0|           0|            0|                 0|              0|                   0|               74| 45|                   0|     0|(10,[7,8],[74.0,4...|[18.8857135670409...|[0.94428567835204...|       0.0|\n",
            "|           0|        0|           0|            0|                 0|              0|                   0|               75| 30|                   0|     0|(10,[7,8],[75.0,3...|[18.8857135670409...|[0.94428567835204...|       0.0|\n",
            "+------------+---------+------------+-------------+------------------+---------------+--------------------+-----------------+---+--------------------+------+--------------------+--------------------+--------------------+----------+\n",
            "only showing top 20 rows\n",
            "\n",
            "+------------+---------+------------+-------------+------------------+---------------+--------------------+-----------------+---+--------------------+------+--------------------+--------------------+--------------------+----------+\n",
            "|gender_label|age_label|hypertension|heart_disease|ever_married_label|work_type_label|Residence_type_label|avg_glucose_level|bmi|smoking_status_label|stroke|            features|       rawPrediction|         probability|prediction|\n",
            "+------------+---------+------------+-------------+------------------+---------------+--------------------+-----------------+---+--------------------+------+--------------------+--------------------+--------------------+----------+\n",
            "|           0|        0|           0|            0|                 0|              0|                   0|               56| 24|                   0|     0|(10,[7,8],[56.0,2...|[9.13617566810327...|[0.45680878340516...|       1.0|\n",
            "|           0|        0|           0|            0|                 0|              0|                   0|               57| 28|                   2|     1|(10,[7,8,9],[57.0...|[8.34184240896012...|[0.41709212044800...|       1.0|\n",
            "|           0|        0|           0|            0|                 0|              0|                   0|               57| 28|                   2|     1|(10,[7,8,9],[57.0...|[8.34184240896012...|[0.41709212044800...|       1.0|\n",
            "|           0|        0|           0|            0|                 0|              0|                   0|               57| 28|                   2|     1|(10,[7,8,9],[57.0...|[8.34184240896012...|[0.41709212044800...|       1.0|\n",
            "|           0|        0|           0|            0|                 0|              0|                   0|               57| 28|                   2|     1|(10,[7,8,9],[57.0...|[8.34184240896012...|[0.41709212044800...|       1.0|\n",
            "|           0|        0|           0|            0|                 0|              0|                   0|               57| 53|                   2|     0|(10,[7,8,9],[57.0...|[11.2357469409851...|[0.56178734704925...|       0.0|\n",
            "|           0|        0|           0|            0|                 0|              0|                   0|               58| 24|                   1|     1|(10,[7,8,9],[58.0...|[8.89050314407060...|[0.44452515720353...|       1.0|\n",
            "|           0|        0|           0|            0|                 0|              0|                   0|               58| 24|                   1|     1|(10,[7,8,9],[58.0...|[8.89050314407060...|[0.44452515720353...|       1.0|\n",
            "|           0|        0|           0|            0|                 0|              0|                   0|               58| 24|                   1|     1|(10,[7,8,9],[58.0...|[8.89050314407060...|[0.44452515720353...|       1.0|\n",
            "|           0|        0|           0|            0|                 0|              0|                   0|               58| 24|                   1|     1|(10,[7,8,9],[58.0...|[8.89050314407060...|[0.44452515720353...|       1.0|\n",
            "|           0|        0|           0|            0|                 0|              0|                   0|               59| 34|                   3|     0|(10,[7,8,9],[59.0...|[10.4027623215123...|[0.52013811607561...|       0.0|\n",
            "|           0|        0|           0|            0|                 0|              0|                   0|               60| 27|                   2|     0|(10,[7,8,9],[60.0...|[8.34184240896012...|[0.41709212044800...|       1.0|\n",
            "|           0|        0|           0|            0|                 0|              0|                   0|               60| 29|                   0|     1|(10,[7,8],[60.0,2...|[9.36794411222267...|[0.46839720561113...|       1.0|\n",
            "|           0|        0|           0|            0|                 0|              0|                   0|               60| 29|                   0|     1|(10,[7,8],[60.0,2...|[9.36794411222267...|[0.46839720561113...|       1.0|\n",
            "|           0|        0|           0|            0|                 0|              0|                   0|               61| 25|                   1|     0|(10,[7,8,9],[61.0...|[8.89050314407060...|[0.44452515720353...|       1.0|\n",
            "|           0|        0|           0|            0|                 0|              0|                   0|               61| 36|                   3|     0|(10,[7,8,9],[61.0...|[10.6450112118625...|[0.53225056059312...|       0.0|\n",
            "|           0|        0|           0|            0|                 0|              0|                   0|               64| 45|                   0|     1|(10,[7,8],[64.0,4...|[10.7567348818201...|[0.53783674409100...|       0.0|\n",
            "|           0|        0|           0|            0|                 0|              0|                   0|               64| 45|                   0|     1|(10,[7,8],[64.0,4...|[10.7567348818201...|[0.53783674409100...|       0.0|\n",
            "|           0|        0|           0|            0|                 0|              0|                   0|               64| 45|                   0|     1|(10,[7,8],[64.0,4...|[10.7567348818201...|[0.53783674409100...|       0.0|\n",
            "|           0|        0|           0|            0|                 0|              0|                   0|               64| 45|                   0|     1|(10,[7,8],[64.0,4...|[10.7567348818201...|[0.53783674409100...|       0.0|\n",
            "+------------+---------+------------+-------------+------------------+---------------+--------------------+-----------------+---+--------------------+------+--------------------+--------------------+--------------------+----------+\n",
            "only showing top 20 rows\n",
            "\n"
          ]
        }
      ]
    },
    {
      "cell_type": "markdown",
      "source": [
        "Random Forest Model Evaluation"
      ],
      "metadata": {
        "id": "ru62UL3A7xXa"
      }
    },
    {
      "cell_type": "code",
      "source": [
        "evaluator = MulticlassClassificationEvaluator(labelCol=\"stroke\", predictionCol=\"prediction\", metricName=\"accuracy\")\n",
        "accuracy1 = evaluator.evaluate(rf_predictions1)\n",
        "\n",
        "print(\"Original Dataset Evaluation Metrics\")\n",
        "print(f\" Accuracy= {accuracy1}\")\n",
        "f11= evaluator.setMetricName(\"f1\").evaluate(rf_predictions1)\n",
        "precision1 = evaluator.setMetricName(\"weightedPrecision\").evaluate(rf_predictions1)\n",
        "recall1 = evaluator.setMetricName(\"weightedRecall\").evaluate(rf_predictions1)\n",
        "print(f\"Test F1 Score = {f11}\")\n",
        "print(f\"Test Precision = {precision1}\")\n",
        "print(f\"Test Recall = {recall1}\")\n",
        "predictionAndLabels1 = rf_predictions1.select(\"prediction\", \"stroke\").rdd.map(lambda row: (float(row[0]), float(row[1])))\n",
        "metrics1 = MulticlassMetrics(predictionAndLabels1)\n",
        "confusion_matrix1 = metrics1.confusionMatrix()\n",
        "print(\"Confusion Matrix for original datset:\")\n",
        "print(confusion_matrix1)\n",
        "\n",
        "print(\"Balanced Dataset Evaluation Metrics\")\n",
        "accuracy2 = evaluator.evaluate(rf_predictions2)\n",
        "print(f\"Test Accuracy for original dataset= {accuracy2}\")\n",
        "f12= evaluator.setMetricName(\"f1\").evaluate(rf_predictions2)\n",
        "precision2 = evaluator.setMetricName(\"weightedPrecision\").evaluate(rf_predictions2)\n",
        "recall2 = evaluator.setMetricName(\"weightedRecall\").evaluate(rf_predictions2)\n",
        "print(f\"Test F1 Score = {f12}\")\n",
        "print(f\"Test Precision = {precision2}\")\n",
        "print(f\"Test Recall = {recall2}\")\n",
        "\n",
        "predictionAndLabels2 = rf_predictions2.select(\"prediction\", \"stroke\").rdd.map(lambda row: (float(row[0]), float(row[1])))\n",
        "metrics2 = MulticlassMetrics(predictionAndLabels2)\n",
        "confusion_matrix2 = metrics2.confusionMatrix()\n",
        "print(\"Confusion Matrix :\")\n",
        "print(confusion_matrix2)\n",
        "\n"
      ],
      "metadata": {
        "colab": {
          "base_uri": "https://localhost:8080/"
        },
        "id": "O5GomerFnzV4",
        "outputId": "ae49b490-6590-49cc-fff8-aed74d01b3c2"
      },
      "execution_count": 60,
      "outputs": [
        {
          "output_type": "stream",
          "name": "stdout",
          "text": [
            "Original Dataset Evaluation Metrics\n",
            " Accuracy= 0.9572649572649573\n",
            "Test F1 Score = 0.9363639756652857\n",
            "Test Precision = 0.9163561984074805\n",
            "Test Recall = 0.9572649572649573\n"
          ]
        },
        {
          "output_type": "stream",
          "name": "stderr",
          "text": [
            "/usr/local/lib/python3.10/dist-packages/pyspark/sql/context.py:158: FutureWarning: Deprecated in 3.0.0. Use SparkSession.builder.getOrCreate() instead.\n",
            "  warnings.warn(\n"
          ]
        },
        {
          "output_type": "stream",
          "name": "stdout",
          "text": [
            "Confusion Matrix for original datset:\n",
            "DenseMatrix([[1008.,    0.],\n",
            "             [  45.,    0.]])\n",
            "Balanced Dataset Evaluation Metrics\n",
            "Test Accuracy for original dataset= 0.7257383966244726\n",
            "Test F1 Score = 0.7141294398678364\n",
            "Test Precision = 0.7687631656858297\n",
            "Test Recall = 0.7257383966244726\n"
          ]
        },
        {
          "output_type": "stream",
          "name": "stderr",
          "text": [
            "/usr/local/lib/python3.10/dist-packages/pyspark/sql/context.py:158: FutureWarning: Deprecated in 3.0.0. Use SparkSession.builder.getOrCreate() instead.\n",
            "  warnings.warn(\n"
          ]
        },
        {
          "output_type": "stream",
          "name": "stdout",
          "text": [
            "Confusion Matrix :\n",
            "DenseMatrix([[496., 450.],\n",
            "             [ 70., 880.]])\n"
          ]
        }
      ]
    },
    {
      "cell_type": "markdown",
      "source": [
        "Decision Tree"
      ],
      "metadata": {
        "id": "9lHx9RGk76Bb"
      }
    },
    {
      "cell_type": "code",
      "source": [
        "dt = DecisionTreeClassifier(labelCol=\"stroke\", featuresCol=\"features\")\n",
        "dt_model1 = dt.fit(train_data1)\n",
        "dt_predictions1 = dt_model1.transform(test_data1)\n",
        "print(\"Original Dataset\")\n",
        "dt_predictions1.show()\n",
        "\n",
        "dt_model2 = dt.fit(train_data2)\n",
        "dt_predictions2= dt_model2.transform(test_data2)\n",
        "print(\"Balanced Dataset\")\n",
        "dt_predictions2.show()"
      ],
      "metadata": {
        "colab": {
          "base_uri": "https://localhost:8080/"
        },
        "id": "6386Pf87eJrU",
        "outputId": "4ebe9eb9-627b-45d4-8d35-36e8a0b36bfc"
      },
      "execution_count": 61,
      "outputs": [
        {
          "output_type": "stream",
          "name": "stdout",
          "text": [
            "Original Dataset\n",
            "+------------+---------+------------+-------------+------------------+---------------+--------------------+-----------------+---+--------------------+------+--------------------+--------------+--------------------+----------+\n",
            "|gender_label|age_label|hypertension|heart_disease|ever_married_label|work_type_label|Residence_type_label|avg_glucose_level|bmi|smoking_status_label|stroke|            features| rawPrediction|         probability|prediction|\n",
            "+------------+---------+------------+-------------+------------------+---------------+--------------------+-----------------+---+--------------------+------+--------------------+--------------+--------------------+----------+\n",
            "|           0|        0|           0|            0|                 0|              0|                   0|               56| 24|                   0|     0|(10,[7,8],[56.0,2...|[1794.0,129.0]|[0.93291731669266...|       0.0|\n",
            "|           0|        0|           0|            0|                 0|              0|                   0|               58| 33|                   0|     0|(10,[7,8],[58.0,3...|[1794.0,129.0]|[0.93291731669266...|       0.0|\n",
            "|           0|        0|           0|            0|                 0|              0|                   0|               59| 25|                   0|     0|(10,[7,8],[59.0,2...|[1794.0,129.0]|[0.93291731669266...|       0.0|\n",
            "|           0|        0|           0|            0|                 0|              0|                   0|               59| 34|                   3|     0|(10,[7,8,9],[59.0...|[1794.0,129.0]|[0.93291731669266...|       0.0|\n",
            "|           0|        0|           0|            0|                 0|              0|                   0|               60| 24|                   0|     0|(10,[7,8],[60.0,2...|[1794.0,129.0]|[0.93291731669266...|       0.0|\n",
            "|           0|        0|           0|            0|                 0|              0|                   0|               64| 45|                   0|     1|(10,[7,8],[64.0,4...|[1794.0,129.0]|[0.93291731669266...|       0.0|\n",
            "|           0|        0|           0|            0|                 0|              0|                   0|               65| 21|                   0|     0|(10,[7,8],[65.0,2...|[1794.0,129.0]|[0.93291731669266...|       0.0|\n",
            "|           0|        0|           0|            0|                 0|              0|                   0|               65| 26|                   3|     0|(10,[7,8,9],[65.0...|[1794.0,129.0]|[0.93291731669266...|       0.0|\n",
            "|           0|        0|           0|            0|                 0|              0|                   0|               65| 39|                   0|     0|(10,[7,8],[65.0,3...|[1794.0,129.0]|[0.93291731669266...|       0.0|\n",
            "|           0|        0|           0|            0|                 0|              0|                   0|               66| 23|                   0|     0|(10,[7,8],[66.0,2...|[1794.0,129.0]|[0.93291731669266...|       0.0|\n",
            "|           0|        0|           0|            0|                 0|              0|                   0|               68| 21|                   0|     0|(10,[7,8],[68.0,2...|[1794.0,129.0]|[0.93291731669266...|       0.0|\n",
            "|           0|        0|           0|            0|                 0|              0|                   0|               69| 20|                   0|     0|(10,[7,8],[69.0,2...|[1794.0,129.0]|[0.93291731669266...|       0.0|\n",
            "|           0|        0|           0|            0|                 0|              0|                   0|               70| 24|                   3|     0|(10,[7,8,9],[70.0...|[1794.0,129.0]|[0.93291731669266...|       0.0|\n",
            "|           0|        0|           0|            0|                 0|              0|                   0|               71| 28|                   3|     0|(10,[7,8,9],[71.0...|[1794.0,129.0]|[0.93291731669266...|       0.0|\n",
            "|           0|        0|           0|            0|                 0|              0|                   0|               73| 26|                   0|     0|(10,[7,8],[73.0,2...|[1794.0,129.0]|[0.93291731669266...|       0.0|\n",
            "|           0|        0|           0|            0|                 0|              0|                   0|               73| 26|                   2|     0|(10,[7,8,9],[73.0...|[1794.0,129.0]|[0.93291731669266...|       0.0|\n",
            "|           0|        0|           0|            0|                 0|              0|                   0|               74| 25|                   2|     0|(10,[7,8,9],[74.0...|[1794.0,129.0]|[0.93291731669266...|       0.0|\n",
            "|           0|        0|           0|            0|                 0|              0|                   0|               74| 26|                   0|     0|(10,[7,8],[74.0,2...|[1794.0,129.0]|[0.93291731669266...|       0.0|\n",
            "|           0|        0|           0|            0|                 0|              0|                   0|               74| 45|                   0|     0|(10,[7,8],[74.0,4...|[1794.0,129.0]|[0.93291731669266...|       0.0|\n",
            "|           0|        0|           0|            0|                 0|              0|                   0|               75| 30|                   0|     0|(10,[7,8],[75.0,3...|[1794.0,129.0]|[0.93291731669266...|       0.0|\n",
            "+------------+---------+------------+-------------+------------------+---------------+--------------------+-----------------+---+--------------------+------+--------------------+--------------+--------------------+----------+\n",
            "only showing top 20 rows\n",
            "\n",
            "Balanced Dataset\n",
            "+------------+---------+------------+-------------+------------------+---------------+--------------------+-----------------+---+--------------------+------+--------------------+-------------+--------------------+----------+\n",
            "|gender_label|age_label|hypertension|heart_disease|ever_married_label|work_type_label|Residence_type_label|avg_glucose_level|bmi|smoking_status_label|stroke|            features|rawPrediction|         probability|prediction|\n",
            "+------------+---------+------------+-------------+------------------+---------------+--------------------+-----------------+---+--------------------+------+--------------------+-------------+--------------------+----------+\n",
            "|           0|        0|           0|            0|                 0|              0|                   0|               56| 24|                   0|     0|(10,[7,8],[56.0,2...|[693.0,935.0]|[0.42567567567567...|       1.0|\n",
            "|           0|        0|           0|            0|                 0|              0|                   0|               57| 28|                   2|     1|(10,[7,8,9],[57.0...|[149.0,572.0]|[0.20665742024965...|       1.0|\n",
            "|           0|        0|           0|            0|                 0|              0|                   0|               57| 28|                   2|     1|(10,[7,8,9],[57.0...|[149.0,572.0]|[0.20665742024965...|       1.0|\n",
            "|           0|        0|           0|            0|                 0|              0|                   0|               57| 28|                   2|     1|(10,[7,8,9],[57.0...|[149.0,572.0]|[0.20665742024965...|       1.0|\n",
            "|           0|        0|           0|            0|                 0|              0|                   0|               57| 28|                   2|     1|(10,[7,8,9],[57.0...|[149.0,572.0]|[0.20665742024965...|       1.0|\n",
            "|           0|        0|           0|            0|                 0|              0|                   0|               57| 53|                   2|     0|(10,[7,8,9],[57.0...|[478.0,283.0]|[0.62812089356110...|       0.0|\n",
            "|           0|        0|           0|            0|                 0|              0|                   0|               58| 24|                   1|     1|(10,[7,8,9],[58.0...|[693.0,935.0]|[0.42567567567567...|       1.0|\n",
            "|           0|        0|           0|            0|                 0|              0|                   0|               58| 24|                   1|     1|(10,[7,8,9],[58.0...|[693.0,935.0]|[0.42567567567567...|       1.0|\n",
            "|           0|        0|           0|            0|                 0|              0|                   0|               58| 24|                   1|     1|(10,[7,8,9],[58.0...|[693.0,935.0]|[0.42567567567567...|       1.0|\n",
            "|           0|        0|           0|            0|                 0|              0|                   0|               58| 24|                   1|     1|(10,[7,8,9],[58.0...|[693.0,935.0]|[0.42567567567567...|       1.0|\n",
            "|           0|        0|           0|            0|                 0|              0|                   0|               59| 34|                   3|     0|(10,[7,8,9],[59.0...|[478.0,283.0]|[0.62812089356110...|       0.0|\n",
            "|           0|        0|           0|            0|                 0|              0|                   0|               60| 27|                   2|     0|(10,[7,8,9],[60.0...|[693.0,935.0]|[0.42567567567567...|       1.0|\n",
            "|           0|        0|           0|            0|                 0|              0|                   0|               60| 29|                   0|     1|(10,[7,8],[60.0,2...|[478.0,283.0]|[0.62812089356110...|       0.0|\n",
            "|           0|        0|           0|            0|                 0|              0|                   0|               60| 29|                   0|     1|(10,[7,8],[60.0,2...|[478.0,283.0]|[0.62812089356110...|       0.0|\n",
            "|           0|        0|           0|            0|                 0|              0|                   0|               61| 25|                   1|     0|(10,[7,8,9],[61.0...|[693.0,935.0]|[0.42567567567567...|       1.0|\n",
            "|           0|        0|           0|            0|                 0|              0|                   0|               61| 36|                   3|     0|(10,[7,8,9],[61.0...|[478.0,283.0]|[0.62812089356110...|       0.0|\n",
            "|           0|        0|           0|            0|                 0|              0|                   0|               64| 45|                   0|     1|(10,[7,8],[64.0,4...|[478.0,283.0]|[0.62812089356110...|       0.0|\n",
            "|           0|        0|           0|            0|                 0|              0|                   0|               64| 45|                   0|     1|(10,[7,8],[64.0,4...|[478.0,283.0]|[0.62812089356110...|       0.0|\n",
            "|           0|        0|           0|            0|                 0|              0|                   0|               64| 45|                   0|     1|(10,[7,8],[64.0,4...|[478.0,283.0]|[0.62812089356110...|       0.0|\n",
            "|           0|        0|           0|            0|                 0|              0|                   0|               64| 45|                   0|     1|(10,[7,8],[64.0,4...|[478.0,283.0]|[0.62812089356110...|       0.0|\n",
            "+------------+---------+------------+-------------+------------------+---------------+--------------------+-----------------+---+--------------------+------+--------------------+-------------+--------------------+----------+\n",
            "only showing top 20 rows\n",
            "\n"
          ]
        }
      ]
    },
    {
      "cell_type": "markdown",
      "source": [
        "Decision Tree Model Evaluation"
      ],
      "metadata": {
        "id": "qf0DjdPy7_6-"
      }
    },
    {
      "cell_type": "code",
      "source": [
        "dtpredictions1 = dt_predictions1.select(['prediction', 'stroke']).rdd.map(lambda x: (float(x[0]), float(x[1])))\n",
        "metricsdt1 = MulticlassMetrics(dtpredictions1)\n",
        "dtaccuracy1 = metricsdt1.accuracy\n",
        "dtf11= metricsdt1.weightedFMeasure()\n",
        "\n",
        "print(\"Original Dataset\")\n",
        "print(f\"Accuracy: {dtaccuracy1}\")\n",
        "print(f\"F1:{dtf11}\")\n",
        "print(\"Decision Tree Confusion Matrix\")\n",
        "print(metricsdt1.confusionMatrix().toArray())\n",
        "\n",
        "\n",
        "dtpredictions2 = dt_predictions2.select(['prediction', 'stroke']).rdd.map(lambda x: (float(x[0]), float(x[1])))\n",
        "metricsdt2 = MulticlassMetrics(dtpredictions2)\n",
        "dtaccuracy2 = metricsdt2.accuracy\n",
        "dtf12 = metricsdt2.weightedFMeasure()\n",
        "print(\"Balanced Dataset\")\n",
        "print(f\"Accuracy: {dtaccuracy2}\")\n",
        "print(f\"F1:{dtf12}\")\n",
        "print(\"Decision Tree Confusion Matrix\")\n",
        "print(metricsdt2.confusionMatrix().toArray())\n"
      ],
      "metadata": {
        "colab": {
          "base_uri": "https://localhost:8080/"
        },
        "id": "uREtAjZSnyDA",
        "outputId": "9d499c13-5bde-4efa-b299-fba7ea6ddbec"
      },
      "execution_count": 62,
      "outputs": [
        {
          "output_type": "stream",
          "name": "stdout",
          "text": [
            "Original Dataset\n",
            "Accuracy: 0.9553656220322887\n",
            "F1:0.9371368806051769\n",
            "Decision Tree Confusion Matrix\n",
            "[[1.005e+03 3.000e+00]\n",
            " [4.400e+01 1.000e+00]]\n",
            "Balanced Dataset\n",
            "Accuracy: 0.7162447257383966\n",
            "F1:0.7093489576962961\n",
            "Decision Tree Confusion Matrix\n",
            "[[532. 414.]\n",
            " [124. 826.]]\n"
          ]
        }
      ]
    },
    {
      "cell_type": "markdown",
      "source": [
        "Logistic Regression\n"
      ],
      "metadata": {
        "id": "pUIs3dkUedPG"
      }
    },
    {
      "cell_type": "code",
      "source": [
        "lr = LogisticRegression(labelCol=\"stroke\", featuresCol=\"features\")\n",
        "lr_model1 = lr.fit(train_data1)\n",
        "lr_predictions1 = lr_model1.transform(test_data1)\n",
        "print(\"Original Dataset\")\n",
        "lr_predictions1.show()\n",
        "\n",
        "lr_model2 = lr.fit(train_data2)\n",
        "lr_predictions2 = lr_model2.transform(test_data2)\n",
        "print(\"Balanced Datasset\")\n",
        "lr_predictions2.show()\n"
      ],
      "metadata": {
        "colab": {
          "base_uri": "https://localhost:8080/"
        },
        "id": "Sa9w1V8JegTo",
        "outputId": "0e7323d5-cb77-4cfc-fc23-8275d8e29e6a"
      },
      "execution_count": 63,
      "outputs": [
        {
          "output_type": "stream",
          "name": "stdout",
          "text": [
            "Original Dataset\n",
            "+------------+---------+------------+-------------+------------------+---------------+--------------------+-----------------+---+--------------------+------+--------------------+--------------------+--------------------+----------+\n",
            "|gender_label|age_label|hypertension|heart_disease|ever_married_label|work_type_label|Residence_type_label|avg_glucose_level|bmi|smoking_status_label|stroke|            features|       rawPrediction|         probability|prediction|\n",
            "+------------+---------+------------+-------------+------------------+---------------+--------------------+-----------------+---+--------------------+------+--------------------+--------------------+--------------------+----------+\n",
            "|           0|        0|           0|            0|                 0|              0|                   0|               56| 24|                   0|     0|(10,[7,8],[56.0,2...|[2.87945380729237...|[0.94682136914711...|       0.0|\n",
            "|           0|        0|           0|            0|                 0|              0|                   0|               58| 33|                   0|     0|(10,[7,8],[58.0,3...|[2.97771144380138...|[0.95155698628642...|       0.0|\n",
            "|           0|        0|           0|            0|                 0|              0|                   0|               59| 25|                   0|     0|(10,[7,8],[59.0,2...|[2.87442668589631...|[0.94656768093985...|       0.0|\n",
            "|           0|        0|           0|            0|                 0|              0|                   0|               59| 34|                   3|     0|(10,[7,8,9],[59.0...|[2.75753950464587...|[0.94033774312705...|       0.0|\n",
            "|           0|        0|           0|            0|                 0|              0|                   0|               60| 24|                   0|     0|(10,[7,8],[60.0,2...|[2.85649353064061...|[0.94565337263909...|       0.0|\n",
            "|           0|        0|           0|            0|                 0|              0|                   0|               64| 45|                   0|     1|(10,[7,8],[64.0,4...|[3.08958806193693...|[0.95646121386720...|       0.0|\n",
            "|           0|        0|           0|            0|                 0|              0|                   0|               65| 21|                   0|     0|(10,[7,8],[65.0,2...|[2.79121392654762...|[0.94219919051154...|       0.0|\n",
            "|           0|        0|           0|            0|                 0|              0|                   0|               65| 26|                   3|     0|(10,[7,8,9],[65.0...|[2.62555440092611...|[0.93248821895283...|       0.0|\n",
            "|           0|        0|           0|            0|                 0|              0|                   0|               65| 39|                   0|     0|(10,[7,8],[65.0,3...|[3.01068947621740...|[0.95305471210998...|       0.0|\n",
            "|           0|        0|           0|            0|                 0|              0|                   0|               66| 23|                   0|     0|(10,[7,8],[66.0,2...|[2.80986002957021...|[0.94320632169846...|       0.0|\n",
            "|           0|        0|           0|            0|                 0|              0|                   0|               68| 21|                   0|     0|(10,[7,8],[68.0,2...|[2.77399371905880...|[0.94125420768100...|       0.0|\n",
            "|           0|        0|           0|            0|                 0|              0|                   0|               69| 20|                   0|     0|(10,[7,8],[69.0,2...|[2.75606056380310...|[0.94025471653952...|       0.0|\n",
            "|           0|        0|           0|            0|                 0|              0|                   0|               70| 24|                   3|     0|(10,[7,8,9],[70.0...|[2.57246788292589...|[0.92906850225589...|       0.0|\n",
            "|           0|        0|           0|            0|                 0|              0|                   0|               71| 28|                   3|     0|(10,[7,8,9],[71.0...|[2.61550015813401...|[0.93185250580799...|       0.0|\n",
            "|           0|        0|           0|            0|                 0|              0|                   0|               73| 26|                   0|     0|(10,[7,8],[73.0,2...|[2.80625880370793...|[0.94301310248253...|       0.0|\n",
            "|           0|        0|           0|            0|                 0|              0|                   0|               73| 26|                   2|     0|(10,[7,8,9],[73.0...|[2.65517549965104...|[0.93432926401168...|       0.0|\n",
            "|           0|        0|           0|            0|                 0|              0|                   0|               74| 25|                   2|     0|(10,[7,8,9],[74.0...|[2.63724234439534...|[0.93322031206016...|       0.0|\n",
            "|           0|        0|           0|            0|                 0|              0|                   0|               74| 26|                   0|     0|(10,[7,8],[74.0,2...|[2.80051873454499...|[0.94270384910195...|       0.0|\n",
            "|           0|        0|           0|            0|                 0|              0|                   0|               74| 45|                   0|     0|(10,[7,8],[74.0,4...|[3.03218737030754...|[0.95400724450125...|       0.0|\n",
            "|           0|        0|           0|            0|                 0|              0|                   0|               75| 30|                   0|     0|(10,[7,8],[75.0,3...|[2.84355100975312...|[0.94498436733595...|       0.0|\n",
            "+------------+---------+------------+-------------+------------------+---------------+--------------------+-----------------+---+--------------------+------+--------------------+--------------------+--------------------+----------+\n",
            "only showing top 20 rows\n",
            "\n",
            "Balanced Datasset\n",
            "+------------+---------+------------+-------------+------------------+---------------+--------------------+-----------------+---+--------------------+------+--------------------+--------------------+--------------------+----------+\n",
            "|gender_label|age_label|hypertension|heart_disease|ever_married_label|work_type_label|Residence_type_label|avg_glucose_level|bmi|smoking_status_label|stroke|            features|       rawPrediction|         probability|prediction|\n",
            "+------------+---------+------------+-------------+------------------+---------------+--------------------+-----------------+---+--------------------+------+--------------------+--------------------+--------------------+----------+\n",
            "|           0|        0|           0|            0|                 0|              0|                   0|               56| 24|                   0|     0|(10,[7,8],[56.0,2...|[-0.0565583660912...|[0.48586417647312...|       1.0|\n",
            "|           0|        0|           0|            0|                 0|              0|                   0|               57| 28|                   2|     1|(10,[7,8,9],[57.0...|[-0.1852494528266...|[0.45381962702537...|       1.0|\n",
            "|           0|        0|           0|            0|                 0|              0|                   0|               57| 28|                   2|     1|(10,[7,8,9],[57.0...|[-0.1852494528266...|[0.45381962702537...|       1.0|\n",
            "|           0|        0|           0|            0|                 0|              0|                   0|               57| 28|                   2|     1|(10,[7,8,9],[57.0...|[-0.1852494528266...|[0.45381962702537...|       1.0|\n",
            "|           0|        0|           0|            0|                 0|              0|                   0|               57| 28|                   2|     1|(10,[7,8,9],[57.0...|[-0.1852494528266...|[0.45381962702537...|       1.0|\n",
            "|           0|        0|           0|            0|                 0|              0|                   0|               57| 53|                   2|     0|(10,[7,8,9],[57.0...|[0.21552570883855...|[0.55367381952008...|       0.0|\n",
            "|           0|        0|           0|            0|                 0|              0|                   0|               58| 24|                   1|     1|(10,[7,8,9],[58.0...|[-0.1607421809237...|[0.45990075812453...|       1.0|\n",
            "|           0|        0|           0|            0|                 0|              0|                   0|               58| 24|                   1|     1|(10,[7,8,9],[58.0...|[-0.1607421809237...|[0.45990075812453...|       1.0|\n",
            "|           0|        0|           0|            0|                 0|              0|                   0|               58| 24|                   1|     1|(10,[7,8,9],[58.0...|[-0.1607421809237...|[0.45990075812453...|       1.0|\n",
            "|           0|        0|           0|            0|                 0|              0|                   0|               58| 24|                   1|     1|(10,[7,8,9],[58.0...|[-0.1607421809237...|[0.45990075812453...|       1.0|\n",
            "|           0|        0|           0|            0|                 0|              0|                   0|               59| 34|                   3|     0|(10,[7,8,9],[59.0...|[-0.1932472288595...|[0.45183798175335...|       1.0|\n",
            "|           0|        0|           0|            0|                 0|              0|                   0|               60| 27|                   2|     0|(10,[7,8,9],[60.0...|[-0.2168329763564...|[0.44600315239145...|       1.0|\n",
            "|           0|        0|           0|            0|                 0|              0|                   0|               60| 29|                   0|     1|(10,[7,8],[60.0,2...|[0.00285997682422...|[0.50071499371870...|       0.0|\n",
            "|           0|        0|           0|            0|                 0|              0|                   0|               60| 29|                   0|     1|(10,[7,8],[60.0,2...|[0.00285997682422...|[0.50071499371870...|       0.0|\n",
            "|           0|        0|           0|            0|                 0|              0|                   0|               61| 25|                   1|     0|(10,[7,8,9],[61.0...|[-0.1602636915203...|[0.46001961336695...|       1.0|\n",
            "|           0|        0|           0|            0|                 0|              0|                   0|               61| 36|                   3|     0|(10,[7,8,9],[61.0...|[-0.1715535606351...|[0.45721648719907...|       1.0|\n",
            "|           0|        0|           0|            0|                 0|              0|                   0|               64| 45|                   0|     1|(10,[7,8],[64.0,4...|[0.23861939087238...|[0.55937339185355...|       0.0|\n",
            "|           0|        0|           0|            0|                 0|              0|                   0|               64| 45|                   0|     1|(10,[7,8],[64.0,4...|[0.23861939087238...|[0.55937339185355...|       0.0|\n",
            "|           0|        0|           0|            0|                 0|              0|                   0|               64| 45|                   0|     1|(10,[7,8],[64.0,4...|[0.23861939087238...|[0.55937339185355...|       0.0|\n",
            "|           0|        0|           0|            0|                 0|              0|                   0|               64| 45|                   0|     1|(10,[7,8],[64.0,4...|[0.23861939087238...|[0.55937339185355...|       0.0|\n",
            "+------------+---------+------------+-------------+------------------+---------------+--------------------+-----------------+---+--------------------+------+--------------------+--------------------+--------------------+----------+\n",
            "only showing top 20 rows\n",
            "\n"
          ]
        }
      ]
    },
    {
      "cell_type": "markdown",
      "source": [
        "Logistic Regression Model Evaluation"
      ],
      "metadata": {
        "id": "tql5Q0In8Ff6"
      }
    },
    {
      "cell_type": "code",
      "source": [
        "lrpredictionsrdd1 = lr_predictions1.select(['prediction', 'stroke']).rdd.map(lambda x: (float(x[0]), float(x[1])))\n",
        "metricslr1 = MulticlassMetrics(lrpredictionsrdd1)\n",
        "\n",
        "lraccuracy1 = metricslr1.accuracy\n",
        "lrf11 = metricslr1.weightedFMeasure()\n",
        "print(\"Original Dataset\")\n",
        "print(f\"Accuracy: {lraccuracy1}\"),\n",
        "print(f\"F1      : {lrf11}\")\n",
        "\n",
        "print(\"Confusion Matrix\")\n",
        "print(metricslr1.confusionMatrix().toArray())\n",
        "\n",
        "\n",
        "lrpredictionsrdd2 = lr_predictions2.select(['prediction', 'stroke']).rdd.map(lambda x: (float(x[0]), float(x[1])))\n",
        "metricslr2 = MulticlassMetrics(lrpredictionsrdd2)\n",
        "\n",
        "lraccuracy2 = metricslr2.accuracy\n",
        "lrf12 = metricslr2.weightedFMeasure()\n",
        "print(\"Balanced Datset\")\n",
        "print(f\"Accuracy: {lraccuracy2}\")\n",
        "print(f\"F1      : {lrf12}\")\n",
        "\n",
        "print(\"Confusion Matrix\")\n",
        "print(metricslr2.confusionMatrix().toArray())"
      ],
      "metadata": {
        "colab": {
          "base_uri": "https://localhost:8080/"
        },
        "id": "uoqgWNHEoMfM",
        "outputId": "6bfeb356-49f4-49aa-ff0a-3bfb0bf608db"
      },
      "execution_count": 64,
      "outputs": [
        {
          "output_type": "stream",
          "name": "stdout",
          "text": [
            "Original Dataset\n",
            "Accuracy: 0.9572649572649573\n",
            "F1      : 0.9363639756652857\n",
            "Confusion Matrix\n",
            "[[1008.    0.]\n",
            " [  45.    0.]]\n",
            "Balanced Datset\n",
            "Accuracy: 0.7093881856540084\n",
            "F1      : 0.705457850335629\n",
            "Confusion Matrix\n",
            "[[562. 384.]\n",
            " [167. 783.]]\n"
          ]
        }
      ]
    },
    {
      "cell_type": "markdown",
      "source": [
        "COMBINING ALL THE ALGORITHMS OUTPUT IN A SINGLE DATAFRAME"
      ],
      "metadata": {
        "id": "Neotqwf3pAHV"
      }
    },
    {
      "cell_type": "code",
      "source": [
        "rf_predictions_id1 = rf_predictions1.withColumn(\"row_id\", monotonically_increasing_id())\n",
        "dt_predictions_id1 = dt_predictions1.withColumn(\"row_id\", monotonically_increasing_id())\n",
        "lr_predictions_id1 = lr_predictions1.withColumn(\"row_id\", monotonically_increasing_id())\n",
        "rf_predictions_id1 = rf_predictions_id1.withColumnRenamed(\"prediction\", \"rf_prediction\")\n",
        "dt_predictions_id1 = dt_predictions_id1.withColumnRenamed(\"prediction\", \"dt_prediction\")\n",
        "lr_predictions_id1= lr_predictions_id1.withColumnRenamed(\"prediction\", \"lr_prediction\")\n",
        "\n",
        "combined_predictions1 = rf_predictions_id1.join(dt_predictions_id1, \"row_id\").join(lr_predictions_id1, \"row_id\")\n",
        "combined_predictions1= rf_predictions_id1.join(dt_predictions_id1.drop(\"stroke\"), \"row_id\").join(lr_predictions_id1.drop(\"stroke\"), \"row_id\")\n",
        "\n",
        "final_original = combined_predictions1.select(\"rf_prediction\", \"dt_prediction\", \"lr_prediction\", \"stroke\")\n",
        "print(\"Original Dataset\")\n",
        "final_original.show()\n",
        "\n",
        "\n",
        "rf_predictions_id2 = rf_predictions2.withColumn(\"row_id\", monotonically_increasing_id())\n",
        "dt_predictions_id2= dt_predictions2.withColumn(\"row_id\", monotonically_increasing_id())\n",
        "lr_predictions_id2 = lr_predictions2.withColumn(\"row_id\", monotonically_increasing_id())\n",
        "rf_predictions_id2 = rf_predictions_id2.withColumnRenamed(\"prediction\", \"rf_prediction\")\n",
        "dt_predictions_id2 = dt_predictions_id2.withColumnRenamed(\"prediction\", \"dt_prediction\")\n",
        "lr_predictions_id2= lr_predictions_id2.withColumnRenamed(\"prediction\", \"lr_prediction\")\n",
        "\n",
        "combined_predictions2= rf_predictions_id2.join(dt_predictions_id2, \"row_id\").join(lr_predictions_id2, \"row_id\")\n",
        "combined_predictions2= rf_predictions_id2.join(dt_predictions_id2.drop(\"stroke\"), \"row_id\").join(lr_predictions_id2.drop(\"stroke\"), \"row_id\")\n",
        "\n",
        "final_balanced= combined_predictions2.select(\"rf_prediction\", \"dt_prediction\", \"lr_prediction\", \"stroke\")\n",
        "print(\"Balanced Dataset\")\n",
        "final_balanced.show()"
      ],
      "metadata": {
        "colab": {
          "base_uri": "https://localhost:8080/"
        },
        "id": "KjSoYfiAuKXn",
        "outputId": "10b2f3e9-f64e-4124-fd02-d2606a8f2c7f"
      },
      "execution_count": 65,
      "outputs": [
        {
          "output_type": "stream",
          "name": "stdout",
          "text": [
            "Original Dataset\n",
            "+-------------+-------------+-------------+------+\n",
            "|rf_prediction|dt_prediction|lr_prediction|stroke|\n",
            "+-------------+-------------+-------------+------+\n",
            "|          0.0|          0.0|          0.0|     0|\n",
            "|          0.0|          0.0|          0.0|     0|\n",
            "|          0.0|          0.0|          0.0|     0|\n",
            "|          0.0|          0.0|          0.0|     0|\n",
            "|          0.0|          0.0|          0.0|     0|\n",
            "|          0.0|          0.0|          0.0|     1|\n",
            "|          0.0|          0.0|          0.0|     0|\n",
            "|          0.0|          0.0|          0.0|     0|\n",
            "|          0.0|          0.0|          0.0|     0|\n",
            "|          0.0|          0.0|          0.0|     0|\n",
            "|          0.0|          0.0|          0.0|     0|\n",
            "|          0.0|          0.0|          0.0|     0|\n",
            "|          0.0|          0.0|          0.0|     0|\n",
            "|          0.0|          0.0|          0.0|     0|\n",
            "|          0.0|          0.0|          0.0|     0|\n",
            "|          0.0|          0.0|          0.0|     0|\n",
            "|          0.0|          0.0|          0.0|     0|\n",
            "|          0.0|          0.0|          0.0|     0|\n",
            "|          0.0|          0.0|          0.0|     0|\n",
            "|          0.0|          0.0|          0.0|     0|\n",
            "+-------------+-------------+-------------+------+\n",
            "only showing top 20 rows\n",
            "\n",
            "Balanced Dataset\n",
            "+-------------+-------------+-------------+------+\n",
            "|rf_prediction|dt_prediction|lr_prediction|stroke|\n",
            "+-------------+-------------+-------------+------+\n",
            "|          1.0|          1.0|          1.0|     0|\n",
            "|          1.0|          1.0|          1.0|     1|\n",
            "|          1.0|          1.0|          1.0|     1|\n",
            "|          1.0|          1.0|          1.0|     1|\n",
            "|          1.0|          1.0|          1.0|     1|\n",
            "|          0.0|          0.0|          0.0|     0|\n",
            "|          1.0|          1.0|          1.0|     1|\n",
            "|          1.0|          1.0|          1.0|     1|\n",
            "|          1.0|          1.0|          1.0|     1|\n",
            "|          1.0|          1.0|          1.0|     1|\n",
            "|          0.0|          0.0|          1.0|     0|\n",
            "|          1.0|          1.0|          1.0|     0|\n",
            "|          1.0|          0.0|          0.0|     1|\n",
            "|          1.0|          0.0|          0.0|     1|\n",
            "|          1.0|          1.0|          1.0|     0|\n",
            "|          0.0|          0.0|          1.0|     0|\n",
            "|          0.0|          0.0|          0.0|     1|\n",
            "|          0.0|          0.0|          0.0|     1|\n",
            "|          0.0|          0.0|          0.0|     1|\n",
            "|          0.0|          0.0|          0.0|     1|\n",
            "+-------------+-------------+-------------+------+\n",
            "only showing top 20 rows\n",
            "\n"
          ]
        }
      ]
    },
    {
      "cell_type": "markdown",
      "source": [
        "Ensemble:Majority Voting or Hard Voting"
      ],
      "metadata": {
        "id": "EQ2SSoIK8bZF"
      }
    },
    {
      "cell_type": "code",
      "source": [
        "def hardvoting(a, b, c):\n",
        "    zeros = (a == 0) + (b == 0) + (c == 0)\n",
        "    ones = (a == 1) + (b == 1) + (c == 1)\n",
        "\n",
        "    if zeros > ones:\n",
        "        return 0\n",
        "    elif ones >zeros:\n",
        "        return 1\n",
        "\n",
        "hardvotingudf = udf(hardvoting, IntegerType())\n",
        "final_original = final_original.withColumn(\"ensemble_prediction\",hardvotingudf(\"rf_prediction\", \"dt_prediction\", \"lr_prediction\"))\n",
        "print(\"Original Dataset\")\n",
        "final_original.show()\n",
        "final_balanced=final_balanced.withColumn(\"ensemble_prediction\",hardvotingudf(\"rf_prediction\", \"dt_prediction\", \"lr_prediction\"))\n",
        "print(\"Balanced Dataset\")\n",
        "final_balanced.show()\n",
        "\n"
      ],
      "metadata": {
        "colab": {
          "base_uri": "https://localhost:8080/"
        },
        "id": "H2xvU3u_zbYg",
        "outputId": "01b02786-b1e8-4efb-d21d-f4494acba9fe"
      },
      "execution_count": 66,
      "outputs": [
        {
          "output_type": "stream",
          "name": "stdout",
          "text": [
            "Original Dataset\n",
            "+-------------+-------------+-------------+------+-------------------+\n",
            "|rf_prediction|dt_prediction|lr_prediction|stroke|ensemble_prediction|\n",
            "+-------------+-------------+-------------+------+-------------------+\n",
            "|          0.0|          0.0|          0.0|     0|                  0|\n",
            "|          0.0|          0.0|          0.0|     0|                  0|\n",
            "|          0.0|          0.0|          0.0|     0|                  0|\n",
            "|          0.0|          0.0|          0.0|     0|                  0|\n",
            "|          0.0|          0.0|          0.0|     0|                  0|\n",
            "|          0.0|          0.0|          0.0|     1|                  0|\n",
            "|          0.0|          0.0|          0.0|     0|                  0|\n",
            "|          0.0|          0.0|          0.0|     0|                  0|\n",
            "|          0.0|          0.0|          0.0|     0|                  0|\n",
            "|          0.0|          0.0|          0.0|     0|                  0|\n",
            "|          0.0|          0.0|          0.0|     0|                  0|\n",
            "|          0.0|          0.0|          0.0|     0|                  0|\n",
            "|          0.0|          0.0|          0.0|     0|                  0|\n",
            "|          0.0|          0.0|          0.0|     0|                  0|\n",
            "|          0.0|          0.0|          0.0|     0|                  0|\n",
            "|          0.0|          0.0|          0.0|     0|                  0|\n",
            "|          0.0|          0.0|          0.0|     0|                  0|\n",
            "|          0.0|          0.0|          0.0|     0|                  0|\n",
            "|          0.0|          0.0|          0.0|     0|                  0|\n",
            "|          0.0|          0.0|          0.0|     0|                  0|\n",
            "+-------------+-------------+-------------+------+-------------------+\n",
            "only showing top 20 rows\n",
            "\n",
            "Balanced Dataset\n",
            "+-------------+-------------+-------------+------+-------------------+\n",
            "|rf_prediction|dt_prediction|lr_prediction|stroke|ensemble_prediction|\n",
            "+-------------+-------------+-------------+------+-------------------+\n",
            "|          1.0|          1.0|          1.0|     0|                  1|\n",
            "|          1.0|          1.0|          1.0|     1|                  1|\n",
            "|          1.0|          1.0|          1.0|     1|                  1|\n",
            "|          1.0|          1.0|          1.0|     1|                  1|\n",
            "|          1.0|          1.0|          1.0|     1|                  1|\n",
            "|          0.0|          0.0|          0.0|     0|                  0|\n",
            "|          1.0|          1.0|          1.0|     1|                  1|\n",
            "|          1.0|          1.0|          1.0|     1|                  1|\n",
            "|          1.0|          1.0|          1.0|     1|                  1|\n",
            "|          1.0|          1.0|          1.0|     1|                  1|\n",
            "|          0.0|          0.0|          1.0|     0|                  0|\n",
            "|          1.0|          1.0|          1.0|     0|                  1|\n",
            "|          1.0|          0.0|          0.0|     1|                  0|\n",
            "|          1.0|          0.0|          0.0|     1|                  0|\n",
            "|          1.0|          1.0|          1.0|     0|                  1|\n",
            "|          0.0|          0.0|          1.0|     0|                  0|\n",
            "|          0.0|          0.0|          0.0|     1|                  0|\n",
            "|          0.0|          0.0|          0.0|     1|                  0|\n",
            "|          0.0|          0.0|          0.0|     1|                  0|\n",
            "|          0.0|          0.0|          0.0|     1|                  0|\n",
            "+-------------+-------------+-------------+------+-------------------+\n",
            "only showing top 20 rows\n",
            "\n"
          ]
        }
      ]
    },
    {
      "cell_type": "markdown",
      "source": [
        "Ensemble Evaluation"
      ],
      "metadata": {
        "id": "H_LhZ5xw8Tvi"
      }
    },
    {
      "cell_type": "code",
      "source": [
        "final_original = final_original.withColumn(\"ensemble_prediction\", col(\"ensemble_prediction\").cast(\"double\"))\n",
        "evaluator1= MulticlassClassificationEvaluator(predictionCol=\"ensemble_prediction\", labelCol=\"stroke\", metricName=\"accuracy\")\n",
        "accuracy11 = evaluator1.evaluate(final_original)\n",
        "\n",
        "print(\"Accuracy :\", accuracy1)\n",
        "predictionAndLabels1 = final_original.select(\"ensemble_prediction\", \"stroke\").rdd.map(lambda row: (float(row[0]), float(row[1])))\n",
        "metrics = MulticlassMetrics(predictionAndLabels1)\n",
        "confusion_matrix1 = metrics.confusionMatrix()\n",
        "\n",
        "print(\"Confusion Matrix:\")\n",
        "print(confusion_matrix1)\n",
        "\n",
        "final_balanced= final_balanced.withColumn(\"ensemble_prediction\", col(\"ensemble_prediction\").cast(\"double\"))\n",
        "evaluator2 = MulticlassClassificationEvaluator(predictionCol=\"ensemble_prediction\", labelCol=\"stroke\", metricName=\"accuracy\")\n",
        "accuracy2 = evaluator2.evaluate(final_balanced)\n",
        "\n",
        "print(\"Accuracy:\", accuracy2)\n",
        "predictionAndLabels2 = final_balanced.select(\"ensemble_prediction\", \"stroke\").rdd.map(lambda row: (float(row[0]), float(row[1])))\n",
        "metrics = MulticlassMetrics(predictionAndLabels2)\n",
        "confusion_matrix2 = metrics.confusionMatrix()\n",
        "\n",
        "print(\"Confusion Matrix:\")\n",
        "print(confusion_matrix2)\n",
        "\n",
        "\n"
      ],
      "metadata": {
        "colab": {
          "base_uri": "https://localhost:8080/"
        },
        "id": "9lqwKqmO2-0A",
        "outputId": "6e459708-03e2-4eae-bcdd-db310df94a32"
      },
      "execution_count": 67,
      "outputs": [
        {
          "output_type": "stream",
          "name": "stdout",
          "text": [
            "Accuracy : 0.9572649572649573\n",
            "Confusion Matrix:\n",
            "DenseMatrix([[1008.,    0.],\n",
            "             [  45.,    0.]])\n",
            "Accuracy: 0.7215189873417721\n",
            "Confusion Matrix:\n",
            "DenseMatrix([[501., 445.],\n",
            "             [ 83., 867.]])\n"
          ]
        }
      ]
    },
    {
      "cell_type": "code",
      "source": [],
      "metadata": {
        "id": "kxPmYhS24UGK"
      },
      "execution_count": null,
      "outputs": []
    }
  ]
}